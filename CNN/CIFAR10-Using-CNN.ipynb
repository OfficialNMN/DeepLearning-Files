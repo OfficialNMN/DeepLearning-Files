{
 "cells": [
  {
   "cell_type": "code",
   "execution_count": 1,
   "metadata": {
    "_cell_guid": "b1076dfc-b9ad-4769-8c92-a6c4dae69d19",
    "_uuid": "8f2839f25d086af736a60e9eeb907d3b93b6e0e5",
    "execution": {
     "iopub.execute_input": "2021-03-16T08:27:01.462464Z",
     "iopub.status.busy": "2021-03-16T08:27:01.461677Z",
     "iopub.status.idle": "2021-03-16T08:27:06.780799Z",
     "shell.execute_reply": "2021-03-16T08:27:06.781871Z"
    },
    "papermill": {
     "duration": 5.344524,
     "end_time": "2021-03-16T08:27:06.782294",
     "exception": false,
     "start_time": "2021-03-16T08:27:01.437770",
     "status": "completed"
    },
    "tags": []
   },
   "outputs": [],
   "source": [
    "import numpy as np # linear algebra\n",
    "import pandas as pd # data processing, CSV file I/O (e.g. pd.read_csv)\n",
    "\n",
    "import os\n",
    "for dirname, _, filenames in os.walk('/kaggle/input'):\n",
    "    for filename in filenames:\n",
    "        print(os.path.join(dirname, filename))\n",
    "        \n",
    "import tensorflow as tf\n",
    "from tensorflow.keras import datasets,models,layers\n",
    "import matplotlib.pyplot as plt\n",
    "%matplotlib inline"
   ]
  },
  {
   "cell_type": "markdown",
   "metadata": {
    "papermill": {
     "duration": 0.019247,
     "end_time": "2021-03-16T08:27:06.831628",
     "exception": false,
     "start_time": "2021-03-16T08:27:06.812381",
     "status": "completed"
    },
    "tags": []
   },
   "source": [
    "## Loading The CIFAR 10 Dataset from inbuilt KerasAPI"
   ]
  },
  {
   "cell_type": "code",
   "execution_count": 2,
   "metadata": {
    "execution": {
     "iopub.execute_input": "2021-03-16T08:27:06.867607Z",
     "iopub.status.busy": "2021-03-16T08:27:06.866124Z",
     "iopub.status.idle": "2021-03-16T08:27:11.447237Z",
     "shell.execute_reply": "2021-03-16T08:27:11.446687Z"
    },
    "papermill": {
     "duration": 4.600397,
     "end_time": "2021-03-16T08:27:11.447401",
     "exception": false,
     "start_time": "2021-03-16T08:27:06.847004",
     "status": "completed"
    },
    "tags": []
   },
   "outputs": [
    {
     "name": "stdout",
     "output_type": "stream",
     "text": [
      "Downloading data from https://www.cs.toronto.edu/~kriz/cifar-10-python.tar.gz\n",
      "170500096/170498071 [==============================] - 2s 0us/step\n"
     ]
    }
   ],
   "source": [
    "(x_train,y_train),(x_test,y_test)=datasets.cifar10.load_data()"
   ]
  },
  {
   "cell_type": "code",
   "execution_count": 3,
   "metadata": {
    "execution": {
     "iopub.execute_input": "2021-03-16T08:27:11.511856Z",
     "iopub.status.busy": "2021-03-16T08:27:11.511137Z",
     "iopub.status.idle": "2021-03-16T08:27:11.514473Z",
     "shell.execute_reply": "2021-03-16T08:27:11.514896Z"
    },
    "papermill": {
     "duration": 0.03822,
     "end_time": "2021-03-16T08:27:11.515064",
     "exception": false,
     "start_time": "2021-03-16T08:27:11.476844",
     "status": "completed"
    },
    "tags": []
   },
   "outputs": [
    {
     "data": {
      "text/plain": [
       "(50000, 32, 32, 3)"
      ]
     },
     "execution_count": 3,
     "metadata": {},
     "output_type": "execute_result"
    }
   ],
   "source": [
    "x_train.shape"
   ]
  },
  {
   "cell_type": "markdown",
   "metadata": {
    "papermill": {
     "duration": 0.028468,
     "end_time": "2021-03-16T08:27:11.572936",
     "exception": false,
     "start_time": "2021-03-16T08:27:11.544468",
     "status": "completed"
    },
    "tags": []
   },
   "source": [
    "50000 train images each of size 32x32 having 3 channels(RGB)"
   ]
  },
  {
   "cell_type": "code",
   "execution_count": 4,
   "metadata": {
    "execution": {
     "iopub.execute_input": "2021-03-16T08:27:11.634575Z",
     "iopub.status.busy": "2021-03-16T08:27:11.633740Z",
     "iopub.status.idle": "2021-03-16T08:27:11.637000Z",
     "shell.execute_reply": "2021-03-16T08:27:11.637506Z"
    },
    "papermill": {
     "duration": 0.036889,
     "end_time": "2021-03-16T08:27:11.637671",
     "exception": false,
     "start_time": "2021-03-16T08:27:11.600782",
     "status": "completed"
    },
    "tags": []
   },
   "outputs": [
    {
     "data": {
      "text/plain": [
       "(10000, 32, 32, 3)"
      ]
     },
     "execution_count": 4,
     "metadata": {},
     "output_type": "execute_result"
    }
   ],
   "source": [
    "x_test.shape"
   ]
  },
  {
   "cell_type": "markdown",
   "metadata": {
    "papermill": {
     "duration": 0.030357,
     "end_time": "2021-03-16T08:27:11.696740",
     "exception": false,
     "start_time": "2021-03-16T08:27:11.666383",
     "status": "completed"
    },
    "tags": []
   },
   "source": [
    "10000 test images having same size as that of input images"
   ]
  },
  {
   "cell_type": "markdown",
   "metadata": {
    "papermill": {
     "duration": 0.029325,
     "end_time": "2021-03-16T08:27:11.756684",
     "exception": false,
     "start_time": "2021-03-16T08:27:11.727359",
     "status": "completed"
    },
    "tags": []
   },
   "source": [
    "#### Converting y to 1-D array so as to access the class names"
   ]
  },
  {
   "cell_type": "code",
   "execution_count": 5,
   "metadata": {
    "execution": {
     "iopub.execute_input": "2021-03-16T08:27:11.822019Z",
     "iopub.status.busy": "2021-03-16T08:27:11.821078Z",
     "iopub.status.idle": "2021-03-16T08:27:11.823208Z",
     "shell.execute_reply": "2021-03-16T08:27:11.823764Z"
    },
    "papermill": {
     "duration": 0.037604,
     "end_time": "2021-03-16T08:27:11.823918",
     "exception": false,
     "start_time": "2021-03-16T08:27:11.786314",
     "status": "completed"
    },
    "tags": []
   },
   "outputs": [],
   "source": [
    "y_train=y_train.reshape(-1,)\n",
    "y_test=y_test.reshape(-1,)"
   ]
  },
  {
   "cell_type": "code",
   "execution_count": 6,
   "metadata": {
    "execution": {
     "iopub.execute_input": "2021-03-16T08:27:11.887778Z",
     "iopub.status.busy": "2021-03-16T08:27:11.886982Z",
     "iopub.status.idle": "2021-03-16T08:27:11.889983Z",
     "shell.execute_reply": "2021-03-16T08:27:11.889581Z"
    },
    "papermill": {
     "duration": 0.036629,
     "end_time": "2021-03-16T08:27:11.890119",
     "exception": false,
     "start_time": "2021-03-16T08:27:11.853490",
     "status": "completed"
    },
    "tags": []
   },
   "outputs": [],
   "source": [
    "classes = [\"airplane\",\"automobile\",\"bird\",\"cat\",\"deer\",\"dog\",\"frog\",\"horse\",\"ship\",\"truck\"]"
   ]
  },
  {
   "cell_type": "code",
   "execution_count": 7,
   "metadata": {
    "execution": {
     "iopub.execute_input": "2021-03-16T08:27:11.952935Z",
     "iopub.status.busy": "2021-03-16T08:27:11.952132Z",
     "iopub.status.idle": "2021-03-16T08:27:11.955110Z",
     "shell.execute_reply": "2021-03-16T08:27:11.954640Z"
    },
    "papermill": {
     "duration": 0.036081,
     "end_time": "2021-03-16T08:27:11.955234",
     "exception": false,
     "start_time": "2021-03-16T08:27:11.919153",
     "status": "completed"
    },
    "tags": []
   },
   "outputs": [],
   "source": [
    "def plot(x,y,index):\n",
    "    plt.imshow(x[index])\n",
    "    plt.xlabel(classes[y[index]])"
   ]
  },
  {
   "cell_type": "code",
   "execution_count": 8,
   "metadata": {
    "execution": {
     "iopub.execute_input": "2021-03-16T08:27:12.038147Z",
     "iopub.status.busy": "2021-03-16T08:27:12.020909Z",
     "iopub.status.idle": "2021-03-16T08:27:12.180607Z",
     "shell.execute_reply": "2021-03-16T08:27:12.180169Z"
    },
    "papermill": {
     "duration": 0.194923,
     "end_time": "2021-03-16T08:27:12.180729",
     "exception": false,
     "start_time": "2021-03-16T08:27:11.985806",
     "status": "completed"
    },
    "tags": []
   },
   "outputs": [
    {
     "data": {
      "image/png": "[encoded data removed]",
      "text/plain": [
       "<Figure size 432x288 with 1 Axes>"
      ]
     },
     "metadata": {
      "needs_background": "light"
     },
     "output_type": "display_data"
    }
   ],
   "source": [
    "plot(x_train,y_train,0)"
   ]
  },
  {
   "cell_type": "code",
   "execution_count": 9,
   "metadata": {
    "execution": {
     "iopub.execute_input": "2021-03-16T08:27:12.245722Z",
     "iopub.status.busy": "2021-03-16T08:27:12.244963Z",
     "iopub.status.idle": "2021-03-16T08:27:12.248651Z",
     "shell.execute_reply": "2021-03-16T08:27:12.248246Z"
    },
    "papermill": {
     "duration": 0.038723,
     "end_time": "2021-03-16T08:27:12.248783",
     "exception": false,
     "start_time": "2021-03-16T08:27:12.210060",
     "status": "completed"
    },
    "tags": []
   },
   "outputs": [
    {
     "data": {
      "text/plain": [
       "array([[[ 59,  62,  63],\n",
       "        [ 43,  46,  45],\n",
       "        [ 50,  48,  43],\n",
       "        ...,\n",
       "        [158, 132, 108],\n",
       "        [152, 125, 102],\n",
       "        [148, 124, 103]],\n",
       "\n",
       "       [[ 16,  20,  20],\n",
       "        [  0,   0,   0],\n",
       "        [ 18,   8,   0],\n",
       "        ...,\n",
       "        [123,  88,  55],\n",
       "        [119,  83,  50],\n",
       "        [122,  87,  57]],\n",
       "\n",
       "       [[ 25,  24,  21],\n",
       "        [ 16,   7,   0],\n",
       "        [ 49,  27,   8],\n",
       "        ...,\n",
       "        [118,  84,  50],\n",
       "        [120,  84,  50],\n",
       "        [109,  73,  42]],\n",
       "\n",
       "       ...,\n",
       "\n",
       "       [[208, 170,  96],\n",
       "        [201, 153,  34],\n",
       "        [198, 161,  26],\n",
       "        ...,\n",
       "        [160, 133,  70],\n",
       "        [ 56,  31,   7],\n",
       "        [ 53,  34,  20]],\n",
       "\n",
       "       [[180, 139,  96],\n",
       "        [173, 123,  42],\n",
       "        [186, 144,  30],\n",
       "        ...,\n",
       "        [184, 148,  94],\n",
       "        [ 97,  62,  34],\n",
       "        [ 83,  53,  34]],\n",
       "\n",
       "       [[177, 144, 116],\n",
       "        [168, 129,  94],\n",
       "        [179, 142,  87],\n",
       "        ...,\n",
       "        [216, 184, 140],\n",
       "        [151, 118,  84],\n",
       "        [123,  92,  72]]], dtype=uint8)"
      ]
     },
     "execution_count": 9,
     "metadata": {},
     "output_type": "execute_result"
    }
   ],
   "source": [
    "x_train[0]"
   ]
  },
  {
   "cell_type": "markdown",
   "metadata": {
    "papermill": {
     "duration": 0.034044,
     "end_time": "2021-03-16T08:27:12.312687",
     "exception": false,
     "start_time": "2021-03-16T08:27:12.278643",
     "status": "completed"
    },
    "tags": []
   },
   "source": [
    "#### Normalizing values of x between 0 to 1 by dividing every value of the array by 255"
   ]
  },
  {
   "cell_type": "code",
   "execution_count": 10,
   "metadata": {
    "execution": {
     "iopub.execute_input": "2021-03-16T08:27:12.419658Z",
     "iopub.status.busy": "2021-03-16T08:27:12.418586Z",
     "iopub.status.idle": "2021-03-16T08:27:12.875428Z",
     "shell.execute_reply": "2021-03-16T08:27:12.874951Z"
    },
    "papermill": {
     "duration": 0.509935,
     "end_time": "2021-03-16T08:27:12.875562",
     "exception": false,
     "start_time": "2021-03-16T08:27:12.365627",
     "status": "completed"
    },
    "tags": []
   },
   "outputs": [],
   "source": [
    "x_train=x_train/255\n",
    "x_test=x_test/255"
   ]
  },
  {
   "cell_type": "markdown",
   "metadata": {
    "papermill": {
     "duration": 0.029415,
     "end_time": "2021-03-16T08:27:12.934961",
     "exception": false,
     "start_time": "2021-03-16T08:27:12.905546",
     "status": "completed"
    },
    "tags": []
   },
   "source": [
    "## Using ANN for image classification"
   ]
  },
  {
   "cell_type": "code",
   "execution_count": 11,
   "metadata": {
    "execution": {
     "iopub.execute_input": "2021-03-16T08:27:13.001671Z",
     "iopub.status.busy": "2021-03-16T08:27:13.001096Z",
     "iopub.status.idle": "2021-03-16T08:29:01.564146Z",
     "shell.execute_reply": "2021-03-16T08:29:01.563679Z"
    },
    "papermill": {
     "duration": 108.599354,
     "end_time": "2021-03-16T08:29:01.564284",
     "exception": false,
     "start_time": "2021-03-16T08:27:12.964930",
     "status": "completed"
    },
    "tags": []
   },
   "outputs": [
    {
     "name": "stdout",
     "output_type": "stream",
     "text": [
      "Epoch 1/30\n",
      "1563/1563 [==============================] - 5s 2ms/step - loss: 2.0036 - accuracy: 0.2828\n",
      "Epoch 2/30\n",
      "1563/1563 [==============================] - 3s 2ms/step - loss: 1.7133 - accuracy: 0.3849\n",
      "Epoch 3/30\n",
      "1563/1563 [==============================] - 3s 2ms/step - loss: 1.6313 - accuracy: 0.4160\n",
      "Epoch 4/30\n",
      "1563/1563 [==============================] - 3s 2ms/step - loss: 1.5725 - accuracy: 0.4363\n",
      "Epoch 5/30\n",
      "1563/1563 [==============================] - 3s 2ms/step - loss: 1.5353 - accuracy: 0.4496\n",
      "Epoch 6/30\n",
      "1563/1563 [==============================] - 3s 2ms/step - loss: 1.5021 - accuracy: 0.4620\n",
      "Epoch 7/30\n",
      "1563/1563 [==============================] - 4s 3ms/step - loss: 1.4863 - accuracy: 0.4683\n",
      "Epoch 8/30\n",
      "1563/1563 [==============================] - 3s 2ms/step - loss: 1.4661 - accuracy: 0.4784\n",
      "Epoch 9/30\n",
      "1563/1563 [==============================] - 3s 2ms/step - loss: 1.4352 - accuracy: 0.4878\n",
      "Epoch 10/30\n",
      "1563/1563 [==============================] - 4s 2ms/step - loss: 1.4127 - accuracy: 0.4935\n",
      "Epoch 11/30\n",
      "1563/1563 [==============================] - 3s 2ms/step - loss: 1.4112 - accuracy: 0.4927\n",
      "Epoch 12/30\n",
      "1563/1563 [==============================] - 3s 2ms/step - loss: 1.3867 - accuracy: 0.5034\n",
      "Epoch 13/30\n",
      "1563/1563 [==============================] - 4s 2ms/step - loss: 1.3832 - accuracy: 0.5028\n",
      "Epoch 14/30\n",
      "1563/1563 [==============================] - 3s 2ms/step - loss: 1.3649 - accuracy: 0.5115\n",
      "Epoch 15/30\n",
      "1563/1563 [==============================] - 3s 2ms/step - loss: 1.3584 - accuracy: 0.5177\n",
      "Epoch 16/30\n",
      "1563/1563 [==============================] - 4s 2ms/step - loss: 1.3432 - accuracy: 0.5159\n",
      "Epoch 17/30\n",
      "1563/1563 [==============================] - 4s 2ms/step - loss: 1.3317 - accuracy: 0.5222\n",
      "Epoch 18/30\n",
      "1563/1563 [==============================] - 3s 2ms/step - loss: 1.3219 - accuracy: 0.5262\n",
      "Epoch 19/30\n",
      "1563/1563 [==============================] - 4s 2ms/step - loss: 1.3182 - accuracy: 0.5286\n",
      "Epoch 20/30\n",
      "1563/1563 [==============================] - 3s 2ms/step - loss: 1.3028 - accuracy: 0.5341\n",
      "Epoch 21/30\n",
      "1563/1563 [==============================] - 3s 2ms/step - loss: 1.2847 - accuracy: 0.5362\n",
      "Epoch 22/30\n",
      "1563/1563 [==============================] - 3s 2ms/step - loss: 1.2874 - accuracy: 0.5376\n",
      "Epoch 23/30\n",
      "1563/1563 [==============================] - 4s 2ms/step - loss: 1.2788 - accuracy: 0.5414\n",
      "Epoch 24/30\n",
      "1563/1563 [==============================] - 3s 2ms/step - loss: 1.2818 - accuracy: 0.5403\n",
      "Epoch 25/30\n",
      "1563/1563 [==============================] - 3s 2ms/step - loss: 1.2674 - accuracy: 0.5463\n",
      "Epoch 26/30\n",
      "1563/1563 [==============================] - 5s 3ms/step - loss: 1.2579 - accuracy: 0.5503\n",
      "Epoch 27/30\n",
      "1563/1563 [==============================] - 3s 2ms/step - loss: 1.2539 - accuracy: 0.5503\n",
      "Epoch 28/30\n",
      "1563/1563 [==============================] - 3s 2ms/step - loss: 1.2377 - accuracy: 0.5566\n",
      "Epoch 29/30\n",
      "1563/1563 [==============================] - 3s 2ms/step - loss: 1.2383 - accuracy: 0.5585\n",
      "Epoch 30/30\n",
      "1563/1563 [==============================] - 3s 2ms/step - loss: 1.2414 - accuracy: 0.5546\n"
     ]
    },
    {
     "data": {
      "text/plain": [
       "<tensorflow.python.keras.callbacks.History at 0x7fa69c3469d0>"
      ]
     },
     "execution_count": 11,
     "metadata": {},
     "output_type": "execute_result"
    }
   ],
   "source": [
    "ann=models.Sequential([\n",
    "    layers.Flatten(input_shape=(32,32,3)),\n",
    "    layers.Dense(300,activation='relu'),\n",
    "    layers.Dense(100,activation='relu'),\n",
    "    layers.Dense(10,activation='sigmoid')\n",
    "])\n",
    "ann.compile(optimizer='adam',\n",
    "           loss='sparse_categorical_crossentropy',\n",
    "           metrics=['accuracy'])\n",
    "ann.fit(x_train,y_train,epochs=30)"
   ]
  },
  {
   "cell_type": "code",
   "execution_count": 12,
   "metadata": {
    "execution": {
     "iopub.execute_input": "2021-03-16T08:29:02.677472Z",
     "iopub.status.busy": "2021-03-16T08:29:02.676819Z",
     "iopub.status.idle": "2021-03-16T08:29:03.576461Z",
     "shell.execute_reply": "2021-03-16T08:29:03.576946Z"
    },
    "papermill": {
     "duration": 1.459465,
     "end_time": "2021-03-16T08:29:03.577146",
     "exception": false,
     "start_time": "2021-03-16T08:29:02.117681",
     "status": "completed"
    },
    "tags": []
   },
   "outputs": [
    {
     "name": "stdout",
     "output_type": "stream",
     "text": [
      "313/313 [==============================] - 1s 2ms/step - loss: 1.4399 - accuracy: 0.4979\n"
     ]
    },
    {
     "data": {
      "text/plain": [
       "[1.4398565292358398, 0.49790000915527344]"
      ]
     },
     "execution_count": 12,
     "metadata": {},
     "output_type": "execute_result"
    }
   ],
   "source": [
    "ann.evaluate(x_test,y_test)"
   ]
  },
  {
   "cell_type": "code",
   "execution_count": 13,
   "metadata": {
    "execution": {
     "iopub.execute_input": "2021-03-16T08:29:04.736479Z",
     "iopub.status.busy": "2021-03-16T08:29:04.735604Z",
     "iopub.status.idle": "2021-03-16T08:29:05.278994Z",
     "shell.execute_reply": "2021-03-16T08:29:05.277537Z"
    },
    "papermill": {
     "duration": 1.117891,
     "end_time": "2021-03-16T08:29:05.279168",
     "exception": false,
     "start_time": "2021-03-16T08:29:04.161277",
     "status": "completed"
    },
    "tags": []
   },
   "outputs": [],
   "source": [
    "y_probs=ann.predict(x_test)"
   ]
  },
  {
   "cell_type": "code",
   "execution_count": 14,
   "metadata": {
    "execution": {
     "iopub.execute_input": "2021-03-16T08:29:06.426122Z",
     "iopub.status.busy": "2021-03-16T08:29:06.425136Z",
     "iopub.status.idle": "2021-03-16T08:29:06.457143Z",
     "shell.execute_reply": "2021-03-16T08:29:06.457587Z"
    },
    "papermill": {
     "duration": 0.616337,
     "end_time": "2021-03-16T08:29:06.457742",
     "exception": false,
     "start_time": "2021-03-16T08:29:05.841405",
     "status": "completed"
    },
    "tags": []
   },
   "outputs": [
    {
     "data": {
      "text/plain": [
       "[3, 1, 1, 8, 4]"
      ]
     },
     "execution_count": 14,
     "metadata": {},
     "output_type": "execute_result"
    }
   ],
   "source": [
    "y_pred=[np.argmax(element) for element in y_probs]\n",
    "y_pred[:5]"
   ]
  },
  {
   "cell_type": "markdown",
   "metadata": {
    "papermill": {
     "duration": 0.56645,
     "end_time": "2021-03-16T08:29:07.881545",
     "exception": false,
     "start_time": "2021-03-16T08:29:07.315095",
     "status": "completed"
    },
    "tags": []
   },
   "source": [
    "## Evaluating Results"
   ]
  },
  {
   "cell_type": "code",
   "execution_count": 15,
   "metadata": {
    "execution": {
     "iopub.execute_input": "2021-03-16T08:29:09.011059Z",
     "iopub.status.busy": "2021-03-16T08:29:09.010330Z",
     "iopub.status.idle": "2021-03-16T08:29:09.619913Z",
     "shell.execute_reply": "2021-03-16T08:29:09.620559Z"
    },
    "papermill": {
     "duration": 1.177609,
     "end_time": "2021-03-16T08:29:09.620776",
     "exception": false,
     "start_time": "2021-03-16T08:29:08.443167",
     "status": "completed"
    },
    "tags": []
   },
   "outputs": [
    {
     "name": "stdout",
     "output_type": "stream",
     "text": [
      "              precision    recall  f1-score   support\n",
      "\n",
      "           0       0.46      0.67      0.54       691\n",
      "           1       0.67      0.57      0.62      1172\n",
      "           2       0.29      0.40      0.34       720\n",
      "           3       0.32      0.36      0.34       899\n",
      "           4       0.47      0.42      0.45      1126\n",
      "           5       0.26      0.48      0.34       546\n",
      "           6       0.68      0.45      0.54      1495\n",
      "           7       0.63      0.48      0.54      1300\n",
      "           8       0.67      0.59      0.63      1131\n",
      "           9       0.53      0.57      0.55       920\n",
      "\n",
      "    accuracy                           0.50     10000\n",
      "   macro avg       0.50      0.50      0.49     10000\n",
      "weighted avg       0.53      0.50      0.51     10000\n",
      "\n"
     ]
    }
   ],
   "source": [
    "from sklearn.metrics import classification_report\n",
    "print(classification_report(y_pred,y_test))"
   ]
  },
  {
   "cell_type": "markdown",
   "metadata": {
    "papermill": {
     "duration": 0.566361,
     "end_time": "2021-03-16T08:29:10.749839",
     "exception": false,
     "start_time": "2021-03-16T08:29:10.183478",
     "status": "completed"
    },
    "tags": []
   },
   "source": [
    "Since we have got an accuracy of only 49% ANN is not suitable for image classification"
   ]
  },
  {
   "cell_type": "markdown",
   "metadata": {
    "papermill": {
     "duration": 0.559297,
     "end_time": "2021-03-16T08:29:11.872939",
     "exception": false,
     "start_time": "2021-03-16T08:29:11.313642",
     "status": "completed"
    },
    "tags": []
   },
   "source": [
    "## Using CNN for image classification"
   ]
  },
  {
   "cell_type": "code",
   "execution_count": 16,
   "metadata": {
    "execution": {
     "iopub.execute_input": "2021-03-16T08:29:13.043222Z",
     "iopub.status.busy": "2021-03-16T08:29:13.042323Z",
     "iopub.status.idle": "2021-03-16T08:31:33.119073Z",
     "shell.execute_reply": "2021-03-16T08:31:33.118294Z"
    },
    "papermill": {
     "duration": 140.678783,
     "end_time": "2021-03-16T08:31:33.119231",
     "exception": false,
     "start_time": "2021-03-16T08:29:12.440448",
     "status": "completed"
    },
    "tags": []
   },
   "outputs": [
    {
     "name": "stdout",
     "output_type": "stream",
     "text": [
      "Epoch 1/30\n",
      "1563/1563 [==============================] - 7s 3ms/step - loss: 1.6817 - accuracy: 0.3802\n",
      "Epoch 2/30\n",
      "1563/1563 [==============================] - 4s 3ms/step - loss: 1.1549 - accuracy: 0.5915\n",
      "Epoch 3/30\n",
      "1563/1563 [==============================] - 5s 3ms/step - loss: 0.9870 - accuracy: 0.6555\n",
      "Epoch 4/30\n",
      "1563/1563 [==============================] - 4s 3ms/step - loss: 0.9112 - accuracy: 0.6815\n",
      "Epoch 5/30\n",
      "1563/1563 [==============================] - 4s 3ms/step - loss: 0.8521 - accuracy: 0.7029\n",
      "Epoch 6/30\n",
      "1563/1563 [==============================] - 4s 3ms/step - loss: 0.7824 - accuracy: 0.7259\n",
      "Epoch 7/30\n",
      "1563/1563 [==============================] - 5s 3ms/step - loss: 0.7311 - accuracy: 0.7447\n",
      "Epoch 8/30\n",
      "1563/1563 [==============================] - 5s 3ms/step - loss: 0.6703 - accuracy: 0.7643\n",
      "Epoch 9/30\n",
      "1563/1563 [==============================] - 4s 3ms/step - loss: 0.6471 - accuracy: 0.7753\n",
      "Epoch 10/30\n",
      "1563/1563 [==============================] - 4s 3ms/step - loss: 0.6156 - accuracy: 0.7856\n",
      "Epoch 11/30\n",
      "1563/1563 [==============================] - 5s 3ms/step - loss: 0.5810 - accuracy: 0.7956\n",
      "Epoch 12/30\n",
      "1563/1563 [==============================] - 4s 3ms/step - loss: 0.5468 - accuracy: 0.8075\n",
      "Epoch 13/30\n",
      "1563/1563 [==============================] - 4s 3ms/step - loss: 0.5204 - accuracy: 0.8179\n",
      "Epoch 14/30\n",
      "1563/1563 [==============================] - 5s 3ms/step - loss: 0.4987 - accuracy: 0.8223\n",
      "Epoch 15/30\n",
      "1563/1563 [==============================] - 5s 3ms/step - loss: 0.4700 - accuracy: 0.8337\n",
      "Epoch 16/30\n",
      "1563/1563 [==============================] - 4s 3ms/step - loss: 0.4607 - accuracy: 0.8358\n",
      "Epoch 17/30\n",
      "1563/1563 [==============================] - 4s 3ms/step - loss: 0.4310 - accuracy: 0.8471\n",
      "Epoch 18/30\n",
      "1563/1563 [==============================] - 5s 3ms/step - loss: 0.3976 - accuracy: 0.8598\n",
      "Epoch 19/30\n",
      "1563/1563 [==============================] - 4s 3ms/step - loss: 0.3838 - accuracy: 0.8633\n",
      "Epoch 20/30\n",
      "1563/1563 [==============================] - 5s 3ms/step - loss: 0.3687 - accuracy: 0.8692\n",
      "Epoch 21/30\n",
      "1563/1563 [==============================] - 5s 3ms/step - loss: 0.3510 - accuracy: 0.8755\n",
      "Epoch 22/30\n",
      "1563/1563 [==============================] - 4s 3ms/step - loss: 0.3334 - accuracy: 0.8807\n",
      "Epoch 23/30\n",
      "1563/1563 [==============================] - 5s 3ms/step - loss: 0.3111 - accuracy: 0.8874\n",
      "Epoch 24/30\n",
      "1563/1563 [==============================] - 4s 3ms/step - loss: 0.3008 - accuracy: 0.8908\n",
      "Epoch 25/30\n",
      "1563/1563 [==============================] - 5s 3ms/step - loss: 0.2886 - accuracy: 0.8965\n",
      "Epoch 26/30\n",
      "1563/1563 [==============================] - 4s 3ms/step - loss: 0.2711 - accuracy: 0.9025\n",
      "Epoch 27/30\n",
      "1563/1563 [==============================] - 4s 3ms/step - loss: 0.2692 - accuracy: 0.9034\n",
      "Epoch 28/30\n",
      "1563/1563 [==============================] - 6s 4ms/step - loss: 0.2567 - accuracy: 0.9070\n",
      "Epoch 29/30\n",
      "1563/1563 [==============================] - 4s 3ms/step - loss: 0.2388 - accuracy: 0.9154\n",
      "Epoch 30/30\n",
      "1563/1563 [==============================] - 5s 3ms/step - loss: 0.2306 - accuracy: 0.9177\n"
     ]
    },
    {
     "data": {
      "text/plain": [
       "<tensorflow.python.keras.callbacks.History at 0x7fa243090e10>"
      ]
     },
     "execution_count": 16,
     "metadata": {},
     "output_type": "execute_result"
    }
   ],
   "source": [
    "cnn=models.Sequential([\n",
    "    layers.Conv2D(filters=32,kernel_size=(3,3),activation='relu',input_shape=(32,32,3)),\n",
    "    layers.MaxPooling2D((2,2)),\n",
    "    layers.Conv2D(filters=64,kernel_size=(3,3),activation='relu'),\n",
    "    layers.MaxPooling2D((2,2)),\n",
    "    layers.Flatten(),\n",
    "    layers.Dense(64,activation='relu'),\n",
    "    layers.Dense(10,activation='softmax')\n",
    "])\n",
    "\n",
    "cnn.compile(optimizer='adam',\n",
    "           loss='sparse_categorical_crossentropy',\n",
    "           metrics=['accuracy'])\n",
    "cnn.fit(x_train,y_train,epochs=30)"
   ]
  },
  {
   "cell_type": "code",
   "execution_count": 17,
   "metadata": {
    "execution": {
     "iopub.execute_input": "2021-03-16T08:31:35.712393Z",
     "iopub.status.busy": "2021-03-16T08:31:35.711696Z",
     "iopub.status.idle": "2021-03-16T08:31:36.683944Z",
     "shell.execute_reply": "2021-03-16T08:31:36.682982Z"
    },
    "papermill": {
     "duration": 2.277903,
     "end_time": "2021-03-16T08:31:36.684092",
     "exception": false,
     "start_time": "2021-03-16T08:31:34.406189",
     "status": "completed"
    },
    "tags": []
   },
   "outputs": [
    {
     "name": "stdout",
     "output_type": "stream",
     "text": [
      "313/313 [==============================] - 1s 2ms/step - loss: 1.6275 - accuracy: 0.6762\n"
     ]
    },
    {
     "data": {
      "text/plain": [
       "[1.6274899244308472, 0.6761999726295471]"
      ]
     },
     "execution_count": 17,
     "metadata": {},
     "output_type": "execute_result"
    }
   ],
   "source": [
    "cnn.evaluate(x_test,y_test)"
   ]
  },
  {
   "cell_type": "code",
   "execution_count": 18,
   "metadata": {
    "execution": {
     "iopub.execute_input": "2021-03-16T08:31:39.273633Z",
     "iopub.status.busy": "2021-03-16T08:31:39.272819Z",
     "iopub.status.idle": "2021-03-16T08:31:40.100651Z",
     "shell.execute_reply": "2021-03-16T08:31:40.099563Z"
    },
    "papermill": {
     "duration": 2.148709,
     "end_time": "2021-03-16T08:31:40.100805",
     "exception": false,
     "start_time": "2021-03-16T08:31:37.952096",
     "status": "completed"
    },
    "tags": []
   },
   "outputs": [],
   "source": [
    "y_probcnn=cnn.predict(x_test)"
   ]
  },
  {
   "cell_type": "code",
   "execution_count": 19,
   "metadata": {
    "execution": {
     "iopub.execute_input": "2021-03-16T08:31:42.970703Z",
     "iopub.status.busy": "2021-03-16T08:31:42.966881Z",
     "iopub.status.idle": "2021-03-16T08:31:43.000901Z",
     "shell.execute_reply": "2021-03-16T08:31:43.001355Z"
    },
    "papermill": {
     "duration": 1.316882,
     "end_time": "2021-03-16T08:31:43.001515",
     "exception": false,
     "start_time": "2021-03-16T08:31:41.684633",
     "status": "completed"
    },
    "tags": []
   },
   "outputs": [
    {
     "data": {
      "text/plain": [
       "[3, 1, 8, 8, 6]"
      ]
     },
     "execution_count": 19,
     "metadata": {},
     "output_type": "execute_result"
    }
   ],
   "source": [
    "y_predcnn=[np.argmax(ele) for ele in y_probcnn]\n",
    "y_predcnn[0:5]"
   ]
  },
  {
   "cell_type": "code",
   "execution_count": 20,
   "metadata": {
    "execution": {
     "iopub.execute_input": "2021-03-16T08:31:45.540435Z",
     "iopub.status.busy": "2021-03-16T08:31:45.539735Z",
     "iopub.status.idle": "2021-03-16T08:31:45.544774Z",
     "shell.execute_reply": "2021-03-16T08:31:45.545243Z"
    },
    "papermill": {
     "duration": 1.27557,
     "end_time": "2021-03-16T08:31:45.545394",
     "exception": false,
     "start_time": "2021-03-16T08:31:44.269824",
     "status": "completed"
    },
    "tags": []
   },
   "outputs": [
    {
     "data": {
      "text/plain": [
       "array([3, 8, 8, 0, 6], dtype=uint8)"
      ]
     },
     "execution_count": 20,
     "metadata": {},
     "output_type": "execute_result"
    }
   ],
   "source": [
    "y_test[:5]"
   ]
  },
  {
   "cell_type": "code",
   "execution_count": 21,
   "metadata": {
    "execution": {
     "iopub.execute_input": "2021-03-16T08:31:48.127599Z",
     "iopub.status.busy": "2021-03-16T08:31:48.126802Z",
     "iopub.status.idle": "2021-03-16T08:31:48.159575Z",
     "shell.execute_reply": "2021-03-16T08:31:48.160060Z"
    },
    "papermill": {
     "duration": 1.296864,
     "end_time": "2021-03-16T08:31:48.160237",
     "exception": false,
     "start_time": "2021-03-16T08:31:46.863373",
     "status": "completed"
    },
    "tags": []
   },
   "outputs": [
    {
     "name": "stdout",
     "output_type": "stream",
     "text": [
      "              precision    recall  f1-score   support\n",
      "\n",
      "           0       0.70      0.73      0.71      1000\n",
      "           1       0.80      0.77      0.78      1000\n",
      "           2       0.66      0.50      0.57      1000\n",
      "           3       0.47      0.51      0.49      1000\n",
      "           4       0.60      0.65      0.62      1000\n",
      "           5       0.57      0.59      0.58      1000\n",
      "           6       0.75      0.74      0.74      1000\n",
      "           7       0.70      0.76      0.73      1000\n",
      "           8       0.83      0.73      0.78      1000\n",
      "           9       0.72      0.78      0.75      1000\n",
      "\n",
      "    accuracy                           0.68     10000\n",
      "   macro avg       0.68      0.68      0.68     10000\n",
      "weighted avg       0.68      0.68      0.68     10000\n",
      "\n"
     ]
    }
   ],
   "source": [
    "from sklearn.metrics import classification_report\n",
    "print(classification_report(y_test,y_predcnn))"
   ]
  },
  {
   "cell_type": "markdown",
   "metadata": {
    "papermill": {
     "duration": 1.251975,
     "end_time": "2021-03-16T08:31:50.697777",
     "exception": false,
     "start_time": "2021-03-16T08:31:49.445802",
     "status": "completed"
    },
    "tags": []
   },
   "source": [
    "Now using CNN we have increase our accuracy to 68 percent"
   ]
  },
  {
   "cell_type": "code",
   "execution_count": null,
   "metadata": {
    "papermill": {
     "duration": 1.429791,
     "end_time": "2021-03-16T08:31:53.585223",
     "exception": false,
     "start_time": "2021-03-16T08:31:52.155432",
     "status": "completed"
    },
    "tags": []
   },
   "outputs": [],
   "source": []
  }
 ],
 "metadata": {
  "kernelspec": {
   "display_name": "Python 3",
   "language": "python",
   "name": "python3"
  },
  "language_info": {
   "codemirror_mode": {
    "name": "ipython",
    "version": 3
   },
   "file_extension": ".py",
   "mimetype": "text/x-python",
   "name": "python",
   "nbconvert_exporter": "python",
   "pygments_lexer": "ipython3",
   "version": "3.7.9"
  },
  "papermill": {
   "default_parameters": {},
   "duration": 302.20904,
   "end_time": "2021-03-16T08:31:58.530716",
   "environment_variables": {},
   "exception": null,
   "input_path": "__notebook__.ipynb",
   "output_path": "__notebook__.ipynb",
   "parameters": {},
   "start_time": "2021-03-16T08:26:56.321676",
   "version": "2.2.2"
  }
 },
 "nbformat": 4,
 "nbformat_minor": 4
}
