{
 "cells": [
  {
   "cell_type": "code",
   "execution_count": 1,
   "metadata": {
    "_cell_guid": "b1076dfc-b9ad-4769-8c92-a6c4dae69d19",
    "_uuid": "8f2839f25d086af736a60e9eeb907d3b93b6e0e5",
    "execution": {
     "iopub.execute_input": "2021-03-11T13:06:43.715973Z",
     "iopub.status.busy": "2021-03-11T13:06:43.715318Z",
     "iopub.status.idle": "2021-03-11T13:06:49.520603Z",
     "shell.execute_reply": "2021-03-11T13:06:49.521084Z"
    },
    "papermill": {
     "duration": 5.830421,
     "end_time": "2021-03-11T13:06:49.521485",
     "exception": false,
     "start_time": "2021-03-11T13:06:43.691064",
     "status": "completed"
    },
    "tags": []
   },
   "outputs": [
    {
     "name": "stdout",
     "output_type": "stream",
     "text": [
      "/kaggle/input/bank-customer-churn-modeling/Churn_Modelling.csv\n"
     ]
    }
   ],
   "source": [
    "import numpy as np # linear algebra\n",
    "import pandas as pd # data processing, CSV file I/O (e.g. pd.read_csv)\n",
    "\n",
    "import os\n",
    "for dirname, _, filenames in os.walk('/kaggle/input'):\n",
    "    for filename in filenames:\n",
    "        print(os.path.join(dirname, filename))\n",
    "import matplotlib.pyplot as plt\n",
    "import tensorflow as tf\n",
    "from tensorflow import keras"
   ]
  },
  {
   "cell_type": "code",
   "execution_count": 2,
   "metadata": {
    "execution": {
     "iopub.execute_input": "2021-03-11T13:06:49.567226Z",
     "iopub.status.busy": "2021-03-11T13:06:49.566586Z",
     "iopub.status.idle": "2021-03-11T13:06:49.644584Z",
     "shell.execute_reply": "2021-03-11T13:06:49.645094Z"
    },
    "papermill": {
     "duration": 0.102239,
     "end_time": "2021-03-11T13:06:49.645279",
     "exception": false,
     "start_time": "2021-03-11T13:06:49.543040",
     "status": "completed"
    },
    "tags": []
   },
   "outputs": [
    {
     "data": {
      "text/html": [
       "<div>\n",
       "<style scoped>\n",
       "    .dataframe tbody tr th:only-of-type {\n",
       "        vertical-align: middle;\n",
       "    }\n",
       "\n",
       "    .dataframe tbody tr th {\n",
       "        vertical-align: top;\n",
       "    }\n",
       "\n",
       "    .dataframe thead th {\n",
       "        text-align: right;\n",
       "    }\n",
       "</style>\n",
       "<table border=\"1\" class=\"dataframe\">\n",
       "  <thead>\n",
       "    <tr style=\"text-align: right;\">\n",
       "      <th></th>\n",
       "      <th>RowNumber</th>\n",
       "      <th>CustomerId</th>\n",
       "      <th>Surname</th>\n",
       "      <th>CreditScore</th>\n",
       "      <th>Geography</th>\n",
       "      <th>Gender</th>\n",
       "      <th>Age</th>\n",
       "      <th>Tenure</th>\n",
       "      <th>Balance</th>\n",
       "      <th>NumOfProducts</th>\n",
       "      <th>HasCrCard</th>\n",
       "      <th>IsActiveMember</th>\n",
       "      <th>EstimatedSalary</th>\n",
       "      <th>Exited</th>\n",
       "    </tr>\n",
       "  </thead>\n",
       "  <tbody>\n",
       "    <tr>\n",
       "      <th>0</th>\n",
       "      <td>1</td>\n",
       "      <td>15634602</td>\n",
       "      <td>Hargrave</td>\n",
       "      <td>619</td>\n",
       "      <td>France</td>\n",
       "      <td>Female</td>\n",
       "      <td>42</td>\n",
       "      <td>2</td>\n",
       "      <td>0.00</td>\n",
       "      <td>1</td>\n",
       "      <td>1</td>\n",
       "      <td>1</td>\n",
       "      <td>101348.88</td>\n",
       "      <td>1</td>\n",
       "    </tr>\n",
       "    <tr>\n",
       "      <th>1</th>\n",
       "      <td>2</td>\n",
       "      <td>15647311</td>\n",
       "      <td>Hill</td>\n",
       "      <td>608</td>\n",
       "      <td>Spain</td>\n",
       "      <td>Female</td>\n",
       "      <td>41</td>\n",
       "      <td>1</td>\n",
       "      <td>83807.86</td>\n",
       "      <td>1</td>\n",
       "      <td>0</td>\n",
       "      <td>1</td>\n",
       "      <td>112542.58</td>\n",
       "      <td>0</td>\n",
       "    </tr>\n",
       "    <tr>\n",
       "      <th>2</th>\n",
       "      <td>3</td>\n",
       "      <td>15619304</td>\n",
       "      <td>Onio</td>\n",
       "      <td>502</td>\n",
       "      <td>France</td>\n",
       "      <td>Female</td>\n",
       "      <td>42</td>\n",
       "      <td>8</td>\n",
       "      <td>159660.80</td>\n",
       "      <td>3</td>\n",
       "      <td>1</td>\n",
       "      <td>0</td>\n",
       "      <td>113931.57</td>\n",
       "      <td>1</td>\n",
       "    </tr>\n",
       "    <tr>\n",
       "      <th>3</th>\n",
       "      <td>4</td>\n",
       "      <td>15701354</td>\n",
       "      <td>Boni</td>\n",
       "      <td>699</td>\n",
       "      <td>France</td>\n",
       "      <td>Female</td>\n",
       "      <td>39</td>\n",
       "      <td>1</td>\n",
       "      <td>0.00</td>\n",
       "      <td>2</td>\n",
       "      <td>0</td>\n",
       "      <td>0</td>\n",
       "      <td>93826.63</td>\n",
       "      <td>0</td>\n",
       "    </tr>\n",
       "    <tr>\n",
       "      <th>4</th>\n",
       "      <td>5</td>\n",
       "      <td>15737888</td>\n",
       "      <td>Mitchell</td>\n",
       "      <td>850</td>\n",
       "      <td>Spain</td>\n",
       "      <td>Female</td>\n",
       "      <td>43</td>\n",
       "      <td>2</td>\n",
       "      <td>125510.82</td>\n",
       "      <td>1</td>\n",
       "      <td>1</td>\n",
       "      <td>1</td>\n",
       "      <td>79084.10</td>\n",
       "      <td>0</td>\n",
       "    </tr>\n",
       "  </tbody>\n",
       "</table>\n",
       "</div>"
      ],
      "text/plain": [
       "   RowNumber  CustomerId   Surname  CreditScore Geography  Gender  Age  \\\n",
       "0          1    15634602  Hargrave          619    France  Female   42   \n",
       "1          2    15647311      Hill          608     Spain  Female   41   \n",
       "2          3    15619304      Onio          502    France  Female   42   \n",
       "3          4    15701354      Boni          699    France  Female   39   \n",
       "4          5    15737888  Mitchell          850     Spain  Female   43   \n",
       "\n",
       "   Tenure    Balance  NumOfProducts  HasCrCard  IsActiveMember  \\\n",
       "0       2       0.00              1          1               1   \n",
       "1       1   83807.86              1          0               1   \n",
       "2       8  159660.80              3          1               0   \n",
       "3       1       0.00              2          0               0   \n",
       "4       2  125510.82              1          1               1   \n",
       "\n",
       "   EstimatedSalary  Exited  \n",
       "0        101348.88       1  \n",
       "1        112542.58       0  \n",
       "2        113931.57       1  \n",
       "3         93826.63       0  \n",
       "4         79084.10       0  "
      ]
     },
     "execution_count": 2,
     "metadata": {},
     "output_type": "execute_result"
    }
   ],
   "source": [
    "df=pd.read_csv('/kaggle/input/bank-customer-churn-modeling/Churn_Modelling.csv')\n",
    "df.head(5)"
   ]
  },
  {
   "cell_type": "markdown",
   "metadata": {
    "papermill": {
     "duration": 0.0211,
     "end_time": "2021-03-11T13:06:49.687928",
     "exception": false,
     "start_time": "2021-03-11T13:06:49.666828",
     "status": "completed"
    },
    "tags": []
   },
   "source": [
    "### Removing those columns which are not helpful in predictions"
   ]
  },
  {
   "cell_type": "code",
   "execution_count": 3,
   "metadata": {
    "execution": {
     "iopub.execute_input": "2021-03-11T13:06:49.733566Z",
     "iopub.status.busy": "2021-03-11T13:06:49.732916Z",
     "iopub.status.idle": "2021-03-11T13:06:49.738917Z",
     "shell.execute_reply": "2021-03-11T13:06:49.739413Z"
    },
    "papermill": {
     "duration": 0.030506,
     "end_time": "2021-03-11T13:06:49.739597",
     "exception": false,
     "start_time": "2021-03-11T13:06:49.709091",
     "status": "completed"
    },
    "tags": []
   },
   "outputs": [],
   "source": [
    "df.drop(['RowNumber','CustomerId','Surname'],axis='columns',inplace=True)"
   ]
  },
  {
   "cell_type": "code",
   "execution_count": 4,
   "metadata": {
    "execution": {
     "iopub.execute_input": "2021-03-11T13:06:49.787377Z",
     "iopub.status.busy": "2021-03-11T13:06:49.786767Z",
     "iopub.status.idle": "2021-03-11T13:06:49.801419Z",
     "shell.execute_reply": "2021-03-11T13:06:49.800895Z"
    },
    "papermill": {
     "duration": 0.040549,
     "end_time": "2021-03-11T13:06:49.801583",
     "exception": false,
     "start_time": "2021-03-11T13:06:49.761034",
     "status": "completed"
    },
    "tags": []
   },
   "outputs": [
    {
     "data": {
      "text/html": [
       "<div>\n",
       "<style scoped>\n",
       "    .dataframe tbody tr th:only-of-type {\n",
       "        vertical-align: middle;\n",
       "    }\n",
       "\n",
       "    .dataframe tbody tr th {\n",
       "        vertical-align: top;\n",
       "    }\n",
       "\n",
       "    .dataframe thead th {\n",
       "        text-align: right;\n",
       "    }\n",
       "</style>\n",
       "<table border=\"1\" class=\"dataframe\">\n",
       "  <thead>\n",
       "    <tr style=\"text-align: right;\">\n",
       "      <th></th>\n",
       "      <th>CreditScore</th>\n",
       "      <th>Geography</th>\n",
       "      <th>Gender</th>\n",
       "      <th>Age</th>\n",
       "      <th>Tenure</th>\n",
       "      <th>Balance</th>\n",
       "      <th>NumOfProducts</th>\n",
       "      <th>HasCrCard</th>\n",
       "      <th>IsActiveMember</th>\n",
       "      <th>EstimatedSalary</th>\n",
       "      <th>Exited</th>\n",
       "    </tr>\n",
       "  </thead>\n",
       "  <tbody>\n",
       "    <tr>\n",
       "      <th>0</th>\n",
       "      <td>619</td>\n",
       "      <td>France</td>\n",
       "      <td>Female</td>\n",
       "      <td>42</td>\n",
       "      <td>2</td>\n",
       "      <td>0.00</td>\n",
       "      <td>1</td>\n",
       "      <td>1</td>\n",
       "      <td>1</td>\n",
       "      <td>101348.88</td>\n",
       "      <td>1</td>\n",
       "    </tr>\n",
       "    <tr>\n",
       "      <th>1</th>\n",
       "      <td>608</td>\n",
       "      <td>Spain</td>\n",
       "      <td>Female</td>\n",
       "      <td>41</td>\n",
       "      <td>1</td>\n",
       "      <td>83807.86</td>\n",
       "      <td>1</td>\n",
       "      <td>0</td>\n",
       "      <td>1</td>\n",
       "      <td>112542.58</td>\n",
       "      <td>0</td>\n",
       "    </tr>\n",
       "    <tr>\n",
       "      <th>2</th>\n",
       "      <td>502</td>\n",
       "      <td>France</td>\n",
       "      <td>Female</td>\n",
       "      <td>42</td>\n",
       "      <td>8</td>\n",
       "      <td>159660.80</td>\n",
       "      <td>3</td>\n",
       "      <td>1</td>\n",
       "      <td>0</td>\n",
       "      <td>113931.57</td>\n",
       "      <td>1</td>\n",
       "    </tr>\n",
       "    <tr>\n",
       "      <th>3</th>\n",
       "      <td>699</td>\n",
       "      <td>France</td>\n",
       "      <td>Female</td>\n",
       "      <td>39</td>\n",
       "      <td>1</td>\n",
       "      <td>0.00</td>\n",
       "      <td>2</td>\n",
       "      <td>0</td>\n",
       "      <td>0</td>\n",
       "      <td>93826.63</td>\n",
       "      <td>0</td>\n",
       "    </tr>\n",
       "    <tr>\n",
       "      <th>4</th>\n",
       "      <td>850</td>\n",
       "      <td>Spain</td>\n",
       "      <td>Female</td>\n",
       "      <td>43</td>\n",
       "      <td>2</td>\n",
       "      <td>125510.82</td>\n",
       "      <td>1</td>\n",
       "      <td>1</td>\n",
       "      <td>1</td>\n",
       "      <td>79084.10</td>\n",
       "      <td>0</td>\n",
       "    </tr>\n",
       "  </tbody>\n",
       "</table>\n",
       "</div>"
      ],
      "text/plain": [
       "   CreditScore Geography  Gender  Age  Tenure    Balance  NumOfProducts  \\\n",
       "0          619    France  Female   42       2       0.00              1   \n",
       "1          608     Spain  Female   41       1   83807.86              1   \n",
       "2          502    France  Female   42       8  159660.80              3   \n",
       "3          699    France  Female   39       1       0.00              2   \n",
       "4          850     Spain  Female   43       2  125510.82              1   \n",
       "\n",
       "   HasCrCard  IsActiveMember  EstimatedSalary  Exited  \n",
       "0          1               1        101348.88       1  \n",
       "1          0               1        112542.58       0  \n",
       "2          1               0        113931.57       1  \n",
       "3          0               0         93826.63       0  \n",
       "4          1               1         79084.10       0  "
      ]
     },
     "execution_count": 4,
     "metadata": {},
     "output_type": "execute_result"
    }
   ],
   "source": [
    "df.head()"
   ]
  },
  {
   "cell_type": "code",
   "execution_count": 5,
   "metadata": {
    "execution": {
     "iopub.execute_input": "2021-03-11T13:06:49.850691Z",
     "iopub.status.busy": "2021-03-11T13:06:49.849613Z",
     "iopub.status.idle": "2021-03-11T13:06:49.855027Z",
     "shell.execute_reply": "2021-03-11T13:06:49.855485Z"
    },
    "papermill": {
     "duration": 0.031771,
     "end_time": "2021-03-11T13:06:49.855664",
     "exception": false,
     "start_time": "2021-03-11T13:06:49.823893",
     "status": "completed"
    },
    "tags": []
   },
   "outputs": [
    {
     "data": {
      "text/plain": [
       "(10000, 11)"
      ]
     },
     "execution_count": 5,
     "metadata": {},
     "output_type": "execute_result"
    }
   ],
   "source": [
    "df.shape"
   ]
  },
  {
   "cell_type": "code",
   "execution_count": 6,
   "metadata": {
    "execution": {
     "iopub.execute_input": "2021-03-11T13:06:49.904932Z",
     "iopub.status.busy": "2021-03-11T13:06:49.903996Z",
     "iopub.status.idle": "2021-03-11T13:06:49.913850Z",
     "shell.execute_reply": "2021-03-11T13:06:49.914474Z"
    },
    "papermill": {
     "duration": 0.036314,
     "end_time": "2021-03-11T13:06:49.914664",
     "exception": false,
     "start_time": "2021-03-11T13:06:49.878350",
     "status": "completed"
    },
    "tags": []
   },
   "outputs": [
    {
     "data": {
      "text/plain": [
       "0    7963\n",
       "1    2037\n",
       "Name: Exited, dtype: int64"
      ]
     },
     "execution_count": 6,
     "metadata": {},
     "output_type": "execute_result"
    }
   ],
   "source": [
    "df['Exited'].value_counts()"
   ]
  },
  {
   "cell_type": "markdown",
   "metadata": {
    "papermill": {
     "duration": 0.023251,
     "end_time": "2021-03-11T13:06:49.961337",
     "exception": false,
     "start_time": "2021-03-11T13:06:49.938086",
     "status": "completed"
    },
    "tags": []
   },
   "source": [
    "## PreProcessing the dataset"
   ]
  },
  {
   "cell_type": "code",
   "execution_count": 7,
   "metadata": {
    "execution": {
     "iopub.execute_input": "2021-03-11T13:06:50.015347Z",
     "iopub.status.busy": "2021-03-11T13:06:50.014344Z",
     "iopub.status.idle": "2021-03-11T13:06:50.021916Z",
     "shell.execute_reply": "2021-03-11T13:06:50.021394Z"
    },
    "papermill": {
     "duration": 0.037579,
     "end_time": "2021-03-11T13:06:50.022057",
     "exception": false,
     "start_time": "2021-03-11T13:06:49.984478",
     "status": "completed"
    },
    "tags": []
   },
   "outputs": [
    {
     "data": {
      "text/plain": [
       "CreditScore        0\n",
       "Geography          0\n",
       "Gender             0\n",
       "Age                0\n",
       "Tenure             0\n",
       "Balance            0\n",
       "NumOfProducts      0\n",
       "HasCrCard          0\n",
       "IsActiveMember     0\n",
       "EstimatedSalary    0\n",
       "Exited             0\n",
       "dtype: int64"
      ]
     },
     "execution_count": 7,
     "metadata": {},
     "output_type": "execute_result"
    }
   ],
   "source": [
    "df.isnull().sum()"
   ]
  },
  {
   "cell_type": "code",
   "execution_count": 8,
   "metadata": {
    "execution": {
     "iopub.execute_input": "2021-03-11T13:06:50.075848Z",
     "iopub.status.busy": "2021-03-11T13:06:50.075222Z",
     "iopub.status.idle": "2021-03-11T13:06:50.079191Z",
     "shell.execute_reply": "2021-03-11T13:06:50.079668Z"
    },
    "papermill": {
     "duration": 0.034147,
     "end_time": "2021-03-11T13:06:50.079837",
     "exception": false,
     "start_time": "2021-03-11T13:06:50.045690",
     "status": "completed"
    },
    "tags": []
   },
   "outputs": [
    {
     "data": {
      "text/plain": [
       "array(['France', 'Spain', 'Germany'], dtype=object)"
      ]
     },
     "execution_count": 8,
     "metadata": {},
     "output_type": "execute_result"
    }
   ],
   "source": [
    "df['Geography'].unique()"
   ]
  },
  {
   "cell_type": "code",
   "execution_count": 9,
   "metadata": {
    "execution": {
     "iopub.execute_input": "2021-03-11T13:06:50.131575Z",
     "iopub.status.busy": "2021-03-11T13:06:50.130856Z",
     "iopub.status.idle": "2021-03-11T13:06:50.138549Z",
     "shell.execute_reply": "2021-03-11T13:06:50.138961Z"
    },
    "papermill": {
     "duration": 0.035348,
     "end_time": "2021-03-11T13:06:50.139150",
     "exception": false,
     "start_time": "2021-03-11T13:06:50.103802",
     "status": "completed"
    },
    "tags": []
   },
   "outputs": [
    {
     "data": {
      "text/plain": [
       "array([ 2,  1,  8,  7,  4,  6,  3, 10,  5,  9,  0])"
      ]
     },
     "execution_count": 9,
     "metadata": {},
     "output_type": "execute_result"
    }
   ],
   "source": [
    "df['Tenure'].unique()"
   ]
  },
  {
   "cell_type": "code",
   "execution_count": 10,
   "metadata": {
    "execution": {
     "iopub.execute_input": "2021-03-11T13:06:50.192171Z",
     "iopub.status.busy": "2021-03-11T13:06:50.191527Z",
     "iopub.status.idle": "2021-03-11T13:06:50.196591Z",
     "shell.execute_reply": "2021-03-11T13:06:50.197110Z"
    },
    "papermill": {
     "duration": 0.032776,
     "end_time": "2021-03-11T13:06:50.197296",
     "exception": false,
     "start_time": "2021-03-11T13:06:50.164520",
     "status": "completed"
    },
    "tags": []
   },
   "outputs": [
    {
     "data": {
      "text/plain": [
       "array([1, 3, 2, 4])"
      ]
     },
     "execution_count": 10,
     "metadata": {},
     "output_type": "execute_result"
    }
   ],
   "source": [
    "df['NumOfProducts'].unique()"
   ]
  },
  {
   "cell_type": "code",
   "execution_count": 11,
   "metadata": {
    "execution": {
     "iopub.execute_input": "2021-03-11T13:06:50.250380Z",
     "iopub.status.busy": "2021-03-11T13:06:50.249727Z",
     "iopub.status.idle": "2021-03-11T13:06:50.257638Z",
     "shell.execute_reply": "2021-03-11T13:06:50.257014Z"
    },
    "papermill": {
     "duration": 0.035638,
     "end_time": "2021-03-11T13:06:50.257781",
     "exception": false,
     "start_time": "2021-03-11T13:06:50.222143",
     "status": "completed"
    },
    "tags": []
   },
   "outputs": [
    {
     "data": {
      "text/plain": [
       "CreditScore          int64\n",
       "Geography           object\n",
       "Gender              object\n",
       "Age                  int64\n",
       "Tenure               int64\n",
       "Balance            float64\n",
       "NumOfProducts        int64\n",
       "HasCrCard            int64\n",
       "IsActiveMember       int64\n",
       "EstimatedSalary    float64\n",
       "Exited               int64\n",
       "dtype: object"
      ]
     },
     "execution_count": 11,
     "metadata": {},
     "output_type": "execute_result"
    }
   ],
   "source": [
    "df.dtypes"
   ]
  },
  {
   "cell_type": "code",
   "execution_count": 12,
   "metadata": {
    "execution": {
     "iopub.execute_input": "2021-03-11T13:06:50.317964Z",
     "iopub.status.busy": "2021-03-11T13:06:50.317297Z",
     "iopub.status.idle": "2021-03-11T13:06:50.327399Z",
     "shell.execute_reply": "2021-03-11T13:06:50.326808Z"
    },
    "papermill": {
     "duration": 0.044552,
     "end_time": "2021-03-11T13:06:50.327557",
     "exception": false,
     "start_time": "2021-03-11T13:06:50.283005",
     "status": "completed"
    },
    "tags": []
   },
   "outputs": [],
   "source": [
    "df=pd.get_dummies(df,columns=['Gender','Geography'],drop_first=True)"
   ]
  },
  {
   "cell_type": "code",
   "execution_count": 13,
   "metadata": {
    "execution": {
     "iopub.execute_input": "2021-03-11T13:06:50.394008Z",
     "iopub.status.busy": "2021-03-11T13:06:50.393327Z",
     "iopub.status.idle": "2021-03-11T13:06:50.396211Z",
     "shell.execute_reply": "2021-03-11T13:06:50.396816Z"
    },
    "papermill": {
     "duration": 0.043788,
     "end_time": "2021-03-11T13:06:50.396987",
     "exception": false,
     "start_time": "2021-03-11T13:06:50.353199",
     "status": "completed"
    },
    "tags": []
   },
   "outputs": [
    {
     "data": {
      "text/html": [
       "<div>\n",
       "<style scoped>\n",
       "    .dataframe tbody tr th:only-of-type {\n",
       "        vertical-align: middle;\n",
       "    }\n",
       "\n",
       "    .dataframe tbody tr th {\n",
       "        vertical-align: top;\n",
       "    }\n",
       "\n",
       "    .dataframe thead th {\n",
       "        text-align: right;\n",
       "    }\n",
       "</style>\n",
       "<table border=\"1\" class=\"dataframe\">\n",
       "  <thead>\n",
       "    <tr style=\"text-align: right;\">\n",
       "      <th></th>\n",
       "      <th>CreditScore</th>\n",
       "      <th>Age</th>\n",
       "      <th>Tenure</th>\n",
       "      <th>Balance</th>\n",
       "      <th>NumOfProducts</th>\n",
       "      <th>HasCrCard</th>\n",
       "      <th>IsActiveMember</th>\n",
       "      <th>EstimatedSalary</th>\n",
       "      <th>Exited</th>\n",
       "      <th>Gender_Male</th>\n",
       "      <th>Geography_Germany</th>\n",
       "      <th>Geography_Spain</th>\n",
       "    </tr>\n",
       "  </thead>\n",
       "  <tbody>\n",
       "    <tr>\n",
       "      <th>0</th>\n",
       "      <td>619</td>\n",
       "      <td>42</td>\n",
       "      <td>2</td>\n",
       "      <td>0.00</td>\n",
       "      <td>1</td>\n",
       "      <td>1</td>\n",
       "      <td>1</td>\n",
       "      <td>101348.88</td>\n",
       "      <td>1</td>\n",
       "      <td>0</td>\n",
       "      <td>0</td>\n",
       "      <td>0</td>\n",
       "    </tr>\n",
       "    <tr>\n",
       "      <th>1</th>\n",
       "      <td>608</td>\n",
       "      <td>41</td>\n",
       "      <td>1</td>\n",
       "      <td>83807.86</td>\n",
       "      <td>1</td>\n",
       "      <td>0</td>\n",
       "      <td>1</td>\n",
       "      <td>112542.58</td>\n",
       "      <td>0</td>\n",
       "      <td>0</td>\n",
       "      <td>0</td>\n",
       "      <td>1</td>\n",
       "    </tr>\n",
       "    <tr>\n",
       "      <th>2</th>\n",
       "      <td>502</td>\n",
       "      <td>42</td>\n",
       "      <td>8</td>\n",
       "      <td>159660.80</td>\n",
       "      <td>3</td>\n",
       "      <td>1</td>\n",
       "      <td>0</td>\n",
       "      <td>113931.57</td>\n",
       "      <td>1</td>\n",
       "      <td>0</td>\n",
       "      <td>0</td>\n",
       "      <td>0</td>\n",
       "    </tr>\n",
       "    <tr>\n",
       "      <th>3</th>\n",
       "      <td>699</td>\n",
       "      <td>39</td>\n",
       "      <td>1</td>\n",
       "      <td>0.00</td>\n",
       "      <td>2</td>\n",
       "      <td>0</td>\n",
       "      <td>0</td>\n",
       "      <td>93826.63</td>\n",
       "      <td>0</td>\n",
       "      <td>0</td>\n",
       "      <td>0</td>\n",
       "      <td>0</td>\n",
       "    </tr>\n",
       "    <tr>\n",
       "      <th>4</th>\n",
       "      <td>850</td>\n",
       "      <td>43</td>\n",
       "      <td>2</td>\n",
       "      <td>125510.82</td>\n",
       "      <td>1</td>\n",
       "      <td>1</td>\n",
       "      <td>1</td>\n",
       "      <td>79084.10</td>\n",
       "      <td>0</td>\n",
       "      <td>0</td>\n",
       "      <td>0</td>\n",
       "      <td>1</td>\n",
       "    </tr>\n",
       "  </tbody>\n",
       "</table>\n",
       "</div>"
      ],
      "text/plain": [
       "   CreditScore  Age  Tenure    Balance  NumOfProducts  HasCrCard  \\\n",
       "0          619   42       2       0.00              1          1   \n",
       "1          608   41       1   83807.86              1          0   \n",
       "2          502   42       8  159660.80              3          1   \n",
       "3          699   39       1       0.00              2          0   \n",
       "4          850   43       2  125510.82              1          1   \n",
       "\n",
       "   IsActiveMember  EstimatedSalary  Exited  Gender_Male  Geography_Germany  \\\n",
       "0               1        101348.88       1            0                  0   \n",
       "1               1        112542.58       0            0                  0   \n",
       "2               0        113931.57       1            0                  0   \n",
       "3               0         93826.63       0            0                  0   \n",
       "4               1         79084.10       0            0                  0   \n",
       "\n",
       "   Geography_Spain  \n",
       "0                0  \n",
       "1                1  \n",
       "2                0  \n",
       "3                0  \n",
       "4                1  "
      ]
     },
     "execution_count": 13,
     "metadata": {},
     "output_type": "execute_result"
    }
   ],
   "source": [
    "df.head()"
   ]
  },
  {
   "cell_type": "code",
   "execution_count": 14,
   "metadata": {
    "execution": {
     "iopub.execute_input": "2021-03-11T13:06:50.452587Z",
     "iopub.status.busy": "2021-03-11T13:06:50.451983Z",
     "iopub.status.idle": "2021-03-11T13:06:51.109282Z",
     "shell.execute_reply": "2021-03-11T13:06:51.108660Z"
    },
    "papermill": {
     "duration": 0.686291,
     "end_time": "2021-03-11T13:06:51.109434",
     "exception": false,
     "start_time": "2021-03-11T13:06:50.423143",
     "status": "completed"
    },
    "tags": []
   },
   "outputs": [],
   "source": [
    "from sklearn.preprocessing import MinMaxScaler\n",
    "scaler=MinMaxScaler()\n",
    "cols=['CreditScore','Age','Balance','EstimatedSalary']\n",
    "df[cols]=scaler.fit_transform(df[cols])"
   ]
  },
  {
   "cell_type": "code",
   "execution_count": 15,
   "metadata": {
    "execution": {
     "iopub.execute_input": "2021-03-11T13:06:51.177444Z",
     "iopub.status.busy": "2021-03-11T13:06:51.176669Z",
     "iopub.status.idle": "2021-03-11T13:06:51.180011Z",
     "shell.execute_reply": "2021-03-11T13:06:51.180514Z"
    },
    "papermill": {
     "duration": 0.044914,
     "end_time": "2021-03-11T13:06:51.180700",
     "exception": false,
     "start_time": "2021-03-11T13:06:51.135786",
     "status": "completed"
    },
    "tags": []
   },
   "outputs": [
    {
     "data": {
      "text/html": [
       "<div>\n",
       "<style scoped>\n",
       "    .dataframe tbody tr th:only-of-type {\n",
       "        vertical-align: middle;\n",
       "    }\n",
       "\n",
       "    .dataframe tbody tr th {\n",
       "        vertical-align: top;\n",
       "    }\n",
       "\n",
       "    .dataframe thead th {\n",
       "        text-align: right;\n",
       "    }\n",
       "</style>\n",
       "<table border=\"1\" class=\"dataframe\">\n",
       "  <thead>\n",
       "    <tr style=\"text-align: right;\">\n",
       "      <th></th>\n",
       "      <th>CreditScore</th>\n",
       "      <th>Age</th>\n",
       "      <th>Tenure</th>\n",
       "      <th>Balance</th>\n",
       "      <th>NumOfProducts</th>\n",
       "      <th>HasCrCard</th>\n",
       "      <th>IsActiveMember</th>\n",
       "      <th>EstimatedSalary</th>\n",
       "      <th>Exited</th>\n",
       "      <th>Gender_Male</th>\n",
       "      <th>Geography_Germany</th>\n",
       "      <th>Geography_Spain</th>\n",
       "    </tr>\n",
       "  </thead>\n",
       "  <tbody>\n",
       "    <tr>\n",
       "      <th>0</th>\n",
       "      <td>0.538</td>\n",
       "      <td>0.324324</td>\n",
       "      <td>2</td>\n",
       "      <td>0.000000</td>\n",
       "      <td>1</td>\n",
       "      <td>1</td>\n",
       "      <td>1</td>\n",
       "      <td>0.506735</td>\n",
       "      <td>1</td>\n",
       "      <td>0</td>\n",
       "      <td>0</td>\n",
       "      <td>0</td>\n",
       "    </tr>\n",
       "    <tr>\n",
       "      <th>1</th>\n",
       "      <td>0.516</td>\n",
       "      <td>0.310811</td>\n",
       "      <td>1</td>\n",
       "      <td>0.334031</td>\n",
       "      <td>1</td>\n",
       "      <td>0</td>\n",
       "      <td>1</td>\n",
       "      <td>0.562709</td>\n",
       "      <td>0</td>\n",
       "      <td>0</td>\n",
       "      <td>0</td>\n",
       "      <td>1</td>\n",
       "    </tr>\n",
       "    <tr>\n",
       "      <th>2</th>\n",
       "      <td>0.304</td>\n",
       "      <td>0.324324</td>\n",
       "      <td>8</td>\n",
       "      <td>0.636357</td>\n",
       "      <td>3</td>\n",
       "      <td>1</td>\n",
       "      <td>0</td>\n",
       "      <td>0.569654</td>\n",
       "      <td>1</td>\n",
       "      <td>0</td>\n",
       "      <td>0</td>\n",
       "      <td>0</td>\n",
       "    </tr>\n",
       "    <tr>\n",
       "      <th>3</th>\n",
       "      <td>0.698</td>\n",
       "      <td>0.283784</td>\n",
       "      <td>1</td>\n",
       "      <td>0.000000</td>\n",
       "      <td>2</td>\n",
       "      <td>0</td>\n",
       "      <td>0</td>\n",
       "      <td>0.469120</td>\n",
       "      <td>0</td>\n",
       "      <td>0</td>\n",
       "      <td>0</td>\n",
       "      <td>0</td>\n",
       "    </tr>\n",
       "    <tr>\n",
       "      <th>4</th>\n",
       "      <td>1.000</td>\n",
       "      <td>0.337838</td>\n",
       "      <td>2</td>\n",
       "      <td>0.500246</td>\n",
       "      <td>1</td>\n",
       "      <td>1</td>\n",
       "      <td>1</td>\n",
       "      <td>0.395400</td>\n",
       "      <td>0</td>\n",
       "      <td>0</td>\n",
       "      <td>0</td>\n",
       "      <td>1</td>\n",
       "    </tr>\n",
       "  </tbody>\n",
       "</table>\n",
       "</div>"
      ],
      "text/plain": [
       "   CreditScore       Age  Tenure   Balance  NumOfProducts  HasCrCard  \\\n",
       "0        0.538  0.324324       2  0.000000              1          1   \n",
       "1        0.516  0.310811       1  0.334031              1          0   \n",
       "2        0.304  0.324324       8  0.636357              3          1   \n",
       "3        0.698  0.283784       1  0.000000              2          0   \n",
       "4        1.000  0.337838       2  0.500246              1          1   \n",
       "\n",
       "   IsActiveMember  EstimatedSalary  Exited  Gender_Male  Geography_Germany  \\\n",
       "0               1         0.506735       1            0                  0   \n",
       "1               1         0.562709       0            0                  0   \n",
       "2               0         0.569654       1            0                  0   \n",
       "3               0         0.469120       0            0                  0   \n",
       "4               1         0.395400       0            0                  0   \n",
       "\n",
       "   Geography_Spain  \n",
       "0                0  \n",
       "1                1  \n",
       "2                0  \n",
       "3                0  \n",
       "4                1  "
      ]
     },
     "execution_count": 15,
     "metadata": {},
     "output_type": "execute_result"
    }
   ],
   "source": [
    "df.head()"
   ]
  },
  {
   "cell_type": "markdown",
   "metadata": {
    "papermill": {
     "duration": 0.026562,
     "end_time": "2021-03-11T13:06:51.234139",
     "exception": false,
     "start_time": "2021-03-11T13:06:51.207577",
     "status": "completed"
    },
    "tags": []
   },
   "source": [
    "### Since we see here that our dataset is imbalanced so we have to do sampling using SMOTE"
   ]
  },
  {
   "cell_type": "code",
   "execution_count": 16,
   "metadata": {
    "execution": {
     "iopub.execute_input": "2021-03-11T13:06:51.291057Z",
     "iopub.status.busy": "2021-03-11T13:06:51.290423Z",
     "iopub.status.idle": "2021-03-11T13:06:51.297789Z",
     "shell.execute_reply": "2021-03-11T13:06:51.297316Z"
    },
    "papermill": {
     "duration": 0.037055,
     "end_time": "2021-03-11T13:06:51.297941",
     "exception": false,
     "start_time": "2021-03-11T13:06:51.260886",
     "status": "completed"
    },
    "tags": []
   },
   "outputs": [],
   "source": [
    "x=df[['CreditScore', 'Age', 'Tenure', 'Balance', 'NumOfProducts', 'HasCrCard','IsActiveMember', 'EstimatedSalary', 'Gender_Male','Geography_Germany', 'Geography_Spain']]\n",
    "y=df['Exited']"
   ]
  },
  {
   "cell_type": "code",
   "execution_count": 17,
   "metadata": {
    "execution": {
     "iopub.execute_input": "2021-03-11T13:06:51.356734Z",
     "iopub.status.busy": "2021-03-11T13:06:51.356076Z",
     "iopub.status.idle": "2021-03-11T13:06:51.846814Z",
     "shell.execute_reply": "2021-03-11T13:06:51.847361Z"
    },
    "papermill": {
     "duration": 0.522793,
     "end_time": "2021-03-11T13:06:51.847562",
     "exception": false,
     "start_time": "2021-03-11T13:06:51.324769",
     "status": "completed"
    },
    "tags": []
   },
   "outputs": [],
   "source": [
    "from imblearn.over_sampling import SMOTE\n",
    "smote=SMOTE(sampling_strategy='minority')\n",
    "x_sm,y_sm=smote.fit_resample(x,y)"
   ]
  },
  {
   "cell_type": "code",
   "execution_count": 18,
   "metadata": {
    "execution": {
     "iopub.execute_input": "2021-03-11T13:06:51.906361Z",
     "iopub.status.busy": "2021-03-11T13:06:51.905428Z",
     "iopub.status.idle": "2021-03-11T13:06:51.912458Z",
     "shell.execute_reply": "2021-03-11T13:06:51.913034Z"
    },
    "papermill": {
     "duration": 0.038286,
     "end_time": "2021-03-11T13:06:51.913216",
     "exception": false,
     "start_time": "2021-03-11T13:06:51.874930",
     "status": "completed"
    },
    "tags": []
   },
   "outputs": [
    {
     "data": {
      "text/plain": [
       "0    7963\n",
       "1    7963\n",
       "Name: Exited, dtype: int64"
      ]
     },
     "execution_count": 18,
     "metadata": {},
     "output_type": "execute_result"
    }
   ],
   "source": [
    "y_sm.value_counts()"
   ]
  },
  {
   "cell_type": "markdown",
   "metadata": {
    "papermill": {
     "duration": 0.02731,
     "end_time": "2021-03-11T13:06:51.968020",
     "exception": false,
     "start_time": "2021-03-11T13:06:51.940710",
     "status": "completed"
    },
    "tags": []
   },
   "source": [
    "## Neural Network Model Training"
   ]
  },
  {
   "cell_type": "code",
   "execution_count": 19,
   "metadata": {
    "execution": {
     "iopub.execute_input": "2021-03-11T13:06:52.029884Z",
     "iopub.status.busy": "2021-03-11T13:06:52.029208Z",
     "iopub.status.idle": "2021-03-11T13:06:52.047538Z",
     "shell.execute_reply": "2021-03-11T13:06:52.048125Z"
    },
    "papermill": {
     "duration": 0.052684,
     "end_time": "2021-03-11T13:06:52.048324",
     "exception": false,
     "start_time": "2021-03-11T13:06:51.995640",
     "status": "completed"
    },
    "tags": []
   },
   "outputs": [],
   "source": [
    "from sklearn.model_selection import train_test_split\n",
    "x_train,x_test,y_train,y_test=train_test_split(x_sm,y_sm,test_size=0.3,random_state=0,stratify=y_sm)"
   ]
  },
  {
   "cell_type": "code",
   "execution_count": 20,
   "metadata": {
    "execution": {
     "iopub.execute_input": "2021-03-11T13:06:52.107879Z",
     "iopub.status.busy": "2021-03-11T13:06:52.106903Z",
     "iopub.status.idle": "2021-03-11T13:06:52.112980Z",
     "shell.execute_reply": "2021-03-11T13:06:52.112504Z"
    },
    "papermill": {
     "duration": 0.036919,
     "end_time": "2021-03-11T13:06:52.113117",
     "exception": false,
     "start_time": "2021-03-11T13:06:52.076198",
     "status": "completed"
    },
    "tags": []
   },
   "outputs": [
    {
     "data": {
      "text/plain": [
       "(11148, 11)"
      ]
     },
     "execution_count": 20,
     "metadata": {},
     "output_type": "execute_result"
    }
   ],
   "source": [
    "x_train.shape"
   ]
  },
  {
   "cell_type": "code",
   "execution_count": 21,
   "metadata": {
    "execution": {
     "iopub.execute_input": "2021-03-11T13:06:52.174534Z",
     "iopub.status.busy": "2021-03-11T13:06:52.173875Z",
     "iopub.status.idle": "2021-03-11T13:06:52.181449Z",
     "shell.execute_reply": "2021-03-11T13:06:52.180773Z"
    },
    "papermill": {
     "duration": 0.03981,
     "end_time": "2021-03-11T13:06:52.181631",
     "exception": false,
     "start_time": "2021-03-11T13:06:52.141821",
     "status": "completed"
    },
    "tags": []
   },
   "outputs": [
    {
     "data": {
      "text/plain": [
       "0    5574\n",
       "1    5574\n",
       "Name: Exited, dtype: int64"
      ]
     },
     "execution_count": 21,
     "metadata": {},
     "output_type": "execute_result"
    }
   ],
   "source": [
    "y_train.value_counts()"
   ]
  },
  {
   "cell_type": "code",
   "execution_count": 22,
   "metadata": {
    "execution": {
     "iopub.execute_input": "2021-03-11T13:06:52.242243Z",
     "iopub.status.busy": "2021-03-11T13:06:52.241491Z",
     "iopub.status.idle": "2021-03-11T13:09:51.492991Z",
     "shell.execute_reply": "2021-03-11T13:09:51.492462Z"
    },
    "papermill": {
     "duration": 179.282885,
     "end_time": "2021-03-11T13:09:51.493169",
     "exception": false,
     "start_time": "2021-03-11T13:06:52.210284",
     "status": "completed"
    },
    "tags": []
   },
   "outputs": [
    {
     "name": "stdout",
     "output_type": "stream",
     "text": [
      "Epoch 1/100\n",
      "1394/1394 [==============================] - 3s 1ms/step - loss: 0.7527 - accuracy: 0.5014\n",
      "Epoch 2/100\n",
      "1394/1394 [==============================] - 2s 1ms/step - loss: 0.6835 - accuracy: 0.5620\n",
      "Epoch 3/100\n",
      "1394/1394 [==============================] - 2s 1ms/step - loss: 0.6464 - accuracy: 0.6287\n",
      "Epoch 4/100\n",
      "1394/1394 [==============================] - 2s 1ms/step - loss: 0.6230 - accuracy: 0.6767\n",
      "Epoch 5/100\n",
      "1394/1394 [==============================] - 2s 1ms/step - loss: 0.5926 - accuracy: 0.7013\n",
      "Epoch 6/100\n",
      "1394/1394 [==============================] - 2s 1ms/step - loss: 0.5789 - accuracy: 0.7185\n",
      "Epoch 7/100\n",
      "1394/1394 [==============================] - 2s 1ms/step - loss: 0.5575 - accuracy: 0.7334\n",
      "Epoch 8/100\n",
      "1394/1394 [==============================] - 2s 1ms/step - loss: 0.5463 - accuracy: 0.7394\n",
      "Epoch 9/100\n",
      "1394/1394 [==============================] - 2s 1ms/step - loss: 0.5395 - accuracy: 0.7349\n",
      "Epoch 10/100\n",
      "1394/1394 [==============================] - 2s 1ms/step - loss: 0.5240 - accuracy: 0.7478\n",
      "Epoch 11/100\n",
      "1394/1394 [==============================] - 2s 1ms/step - loss: 0.5179 - accuracy: 0.7612\n",
      "Epoch 12/100\n",
      "1394/1394 [==============================] - 2s 1ms/step - loss: 0.5281 - accuracy: 0.7439\n",
      "Epoch 13/100\n",
      "1394/1394 [==============================] - 2s 1ms/step - loss: 0.5171 - accuracy: 0.7565\n",
      "Epoch 14/100\n",
      "1394/1394 [==============================] - 2s 1ms/step - loss: 0.5125 - accuracy: 0.7581\n",
      "Epoch 15/100\n",
      "1394/1394 [==============================] - 2s 1ms/step - loss: 0.5199 - accuracy: 0.7499\n",
      "Epoch 16/100\n",
      "1394/1394 [==============================] - 2s 1ms/step - loss: 0.5094 - accuracy: 0.7578\n",
      "Epoch 17/100\n",
      "1394/1394 [==============================] - 2s 1ms/step - loss: 0.5127 - accuracy: 0.7566\n",
      "Epoch 18/100\n",
      "1394/1394 [==============================] - 2s 1ms/step - loss: 0.5060 - accuracy: 0.7631\n",
      "Epoch 19/100\n",
      "1394/1394 [==============================] - 2s 1ms/step - loss: 0.5182 - accuracy: 0.7495\n",
      "Epoch 20/100\n",
      "1394/1394 [==============================] - 2s 1ms/step - loss: 0.5114 - accuracy: 0.7643\n",
      "Epoch 21/100\n",
      "1394/1394 [==============================] - 2s 1ms/step - loss: 0.4965 - accuracy: 0.7681\n",
      "Epoch 22/100\n",
      "1394/1394 [==============================] - 2s 1ms/step - loss: 0.4977 - accuracy: 0.7661\n",
      "Epoch 23/100\n",
      "1394/1394 [==============================] - 2s 1ms/step - loss: 0.4954 - accuracy: 0.7683\n",
      "Epoch 24/100\n",
      "1394/1394 [==============================] - 2s 1ms/step - loss: 0.5058 - accuracy: 0.7610\n",
      "Epoch 25/100\n",
      "1394/1394 [==============================] - 2s 1ms/step - loss: 0.4964 - accuracy: 0.7689\n",
      "Epoch 26/100\n",
      "1394/1394 [==============================] - 2s 1ms/step - loss: 0.4915 - accuracy: 0.7693\n",
      "Epoch 27/100\n",
      "1394/1394 [==============================] - 2s 1ms/step - loss: 0.4937 - accuracy: 0.7673\n",
      "Epoch 28/100\n",
      "1394/1394 [==============================] - 2s 1ms/step - loss: 0.4994 - accuracy: 0.7694\n",
      "Epoch 29/100\n",
      "1394/1394 [==============================] - 2s 1ms/step - loss: 0.4819 - accuracy: 0.7713\n",
      "Epoch 30/100\n",
      "1394/1394 [==============================] - 2s 1ms/step - loss: 0.4870 - accuracy: 0.7797\n",
      "Epoch 31/100\n",
      "1394/1394 [==============================] - 2s 1ms/step - loss: 0.4838 - accuracy: 0.7744\n",
      "Epoch 32/100\n",
      "1394/1394 [==============================] - 2s 1ms/step - loss: 0.4854 - accuracy: 0.7723\n",
      "Epoch 33/100\n",
      "1394/1394 [==============================] - 2s 1ms/step - loss: 0.4907 - accuracy: 0.7687\n",
      "Epoch 34/100\n",
      "1394/1394 [==============================] - 2s 1ms/step - loss: 0.4901 - accuracy: 0.7803\n",
      "Epoch 35/100\n",
      "1394/1394 [==============================] - 2s 1ms/step - loss: 0.4914 - accuracy: 0.7644\n",
      "Epoch 36/100\n",
      "1394/1394 [==============================] - 2s 1ms/step - loss: 0.4952 - accuracy: 0.7652\n",
      "Epoch 37/100\n",
      "1394/1394 [==============================] - 2s 1ms/step - loss: 0.4903 - accuracy: 0.7709\n",
      "Epoch 38/100\n",
      "1394/1394 [==============================] - 2s 1ms/step - loss: 0.4793 - accuracy: 0.7789\n",
      "Epoch 39/100\n",
      "1394/1394 [==============================] - 2s 1ms/step - loss: 0.4982 - accuracy: 0.7697\n",
      "Epoch 40/100\n",
      "1394/1394 [==============================] - 2s 1ms/step - loss: 0.4847 - accuracy: 0.7778\n",
      "Epoch 41/100\n",
      "1394/1394 [==============================] - 2s 1ms/step - loss: 0.4807 - accuracy: 0.7810\n",
      "Epoch 42/100\n",
      "1394/1394 [==============================] - 2s 1ms/step - loss: 0.4821 - accuracy: 0.7749\n",
      "Epoch 43/100\n",
      "1394/1394 [==============================] - 2s 1ms/step - loss: 0.4833 - accuracy: 0.7791\n",
      "Epoch 44/100\n",
      "1394/1394 [==============================] - 2s 1ms/step - loss: 0.4862 - accuracy: 0.7752\n",
      "Epoch 45/100\n",
      "1394/1394 [==============================] - 2s 1ms/step - loss: 0.4837 - accuracy: 0.7774\n",
      "Epoch 46/100\n",
      "1394/1394 [==============================] - 2s 1ms/step - loss: 0.4916 - accuracy: 0.7767\n",
      "Epoch 47/100\n",
      "1394/1394 [==============================] - 2s 1ms/step - loss: 0.4895 - accuracy: 0.7753\n",
      "Epoch 48/100\n",
      "1394/1394 [==============================] - 2s 1ms/step - loss: 0.4734 - accuracy: 0.7819\n",
      "Epoch 49/100\n",
      "1394/1394 [==============================] - 2s 1ms/step - loss: 0.4917 - accuracy: 0.7690\n",
      "Epoch 50/100\n",
      "1394/1394 [==============================] - 2s 1ms/step - loss: 0.4900 - accuracy: 0.7793\n",
      "Epoch 51/100\n",
      "1394/1394 [==============================] - 2s 1ms/step - loss: 0.4781 - accuracy: 0.7790\n",
      "Epoch 52/100\n",
      "1394/1394 [==============================] - 2s 1ms/step - loss: 0.4846 - accuracy: 0.7745\n",
      "Epoch 53/100\n",
      "1394/1394 [==============================] - 2s 1ms/step - loss: 0.4801 - accuracy: 0.7769\n",
      "Epoch 54/100\n",
      "1394/1394 [==============================] - 2s 1ms/step - loss: 0.4836 - accuracy: 0.7674\n",
      "Epoch 55/100\n",
      "1394/1394 [==============================] - 2s 1ms/step - loss: 0.4773 - accuracy: 0.7741\n",
      "Epoch 56/100\n",
      "1394/1394 [==============================] - 2s 1ms/step - loss: 0.4822 - accuracy: 0.7709\n",
      "Epoch 57/100\n",
      "1394/1394 [==============================] - 2s 1ms/step - loss: 0.4869 - accuracy: 0.7699\n",
      "Epoch 58/100\n",
      "1394/1394 [==============================] - 2s 1ms/step - loss: 0.4789 - accuracy: 0.7814\n",
      "Epoch 59/100\n",
      "1394/1394 [==============================] - 2s 1ms/step - loss: 0.4841 - accuracy: 0.7729\n",
      "Epoch 60/100\n",
      "1394/1394 [==============================] - 2s 1ms/step - loss: 0.4779 - accuracy: 0.7739\n",
      "Epoch 61/100\n",
      "1394/1394 [==============================] - 2s 1ms/step - loss: 0.4803 - accuracy: 0.7699\n",
      "Epoch 62/100\n",
      "1394/1394 [==============================] - 2s 1ms/step - loss: 0.4775 - accuracy: 0.7767\n",
      "Epoch 63/100\n",
      "1394/1394 [==============================] - 2s 1ms/step - loss: 0.4739 - accuracy: 0.7793\n",
      "Epoch 64/100\n",
      "1394/1394 [==============================] - 2s 1ms/step - loss: 0.4780 - accuracy: 0.7819\n",
      "Epoch 65/100\n",
      "1394/1394 [==============================] - 2s 1ms/step - loss: 0.4736 - accuracy: 0.7787\n",
      "Epoch 66/100\n",
      "1394/1394 [==============================] - 2s 1ms/step - loss: 0.4724 - accuracy: 0.7785\n",
      "Epoch 67/100\n",
      "1394/1394 [==============================] - 2s 1ms/step - loss: 0.4840 - accuracy: 0.7775\n",
      "Epoch 68/100\n",
      "1394/1394 [==============================] - 2s 1ms/step - loss: 0.4817 - accuracy: 0.7680\n",
      "Epoch 69/100\n",
      "1394/1394 [==============================] - 2s 1ms/step - loss: 0.4720 - accuracy: 0.7813\n",
      "Epoch 70/100\n",
      "1394/1394 [==============================] - 2s 1ms/step - loss: 0.4803 - accuracy: 0.7800\n",
      "Epoch 71/100\n",
      "1394/1394 [==============================] - 2s 1ms/step - loss: 0.4782 - accuracy: 0.7750\n",
      "Epoch 72/100\n",
      "1394/1394 [==============================] - 2s 1ms/step - loss: 0.4690 - accuracy: 0.7861\n",
      "Epoch 73/100\n",
      "1394/1394 [==============================] - 2s 1ms/step - loss: 0.4829 - accuracy: 0.7729\n",
      "Epoch 74/100\n",
      "1394/1394 [==============================] - 2s 1ms/step - loss: 0.4708 - accuracy: 0.7834\n",
      "Epoch 75/100\n",
      "1394/1394 [==============================] - 2s 1ms/step - loss: 0.4652 - accuracy: 0.7784\n",
      "Epoch 76/100\n",
      "1394/1394 [==============================] - 2s 1ms/step - loss: 0.4761 - accuracy: 0.7841\n",
      "Epoch 77/100\n",
      "1394/1394 [==============================] - 2s 1ms/step - loss: 0.4677 - accuracy: 0.7886\n",
      "Epoch 78/100\n",
      "1394/1394 [==============================] - 2s 1ms/step - loss: 0.4634 - accuracy: 0.7815\n",
      "Epoch 79/100\n",
      "1394/1394 [==============================] - 2s 1ms/step - loss: 0.4773 - accuracy: 0.7802\n",
      "Epoch 80/100\n",
      "1394/1394 [==============================] - 2s 1ms/step - loss: 0.4750 - accuracy: 0.7823\n",
      "Epoch 81/100\n",
      "1394/1394 [==============================] - 2s 1ms/step - loss: 0.4774 - accuracy: 0.7908\n",
      "Epoch 82/100\n",
      "1394/1394 [==============================] - 2s 1ms/step - loss: 0.4771 - accuracy: 0.7813\n",
      "Epoch 83/100\n",
      "1394/1394 [==============================] - 2s 1ms/step - loss: 0.4682 - accuracy: 0.7867\n",
      "Epoch 84/100\n",
      "1394/1394 [==============================] - 2s 1ms/step - loss: 0.4678 - accuracy: 0.7836\n",
      "Epoch 85/100\n",
      "1394/1394 [==============================] - 2s 1ms/step - loss: 0.4723 - accuracy: 0.7835\n",
      "Epoch 86/100\n",
      "1394/1394 [==============================] - 2s 1ms/step - loss: 0.4620 - accuracy: 0.7850\n",
      "Epoch 87/100\n",
      "1394/1394 [==============================] - 2s 1ms/step - loss: 0.4780 - accuracy: 0.7803\n",
      "Epoch 88/100\n",
      "1394/1394 [==============================] - 2s 1ms/step - loss: 0.4582 - accuracy: 0.7910\n",
      "Epoch 89/100\n",
      "1394/1394 [==============================] - 2s 1ms/step - loss: 0.4595 - accuracy: 0.7882\n",
      "Epoch 90/100\n",
      "1394/1394 [==============================] - 2s 1ms/step - loss: 0.4749 - accuracy: 0.7840\n",
      "Epoch 91/100\n",
      "1394/1394 [==============================] - 2s 1ms/step - loss: 0.4745 - accuracy: 0.7862\n",
      "Epoch 92/100\n",
      "1394/1394 [==============================] - 2s 1ms/step - loss: 0.4768 - accuracy: 0.7843\n",
      "Epoch 93/100\n",
      "1394/1394 [==============================] - 2s 1ms/step - loss: 0.4700 - accuracy: 0.7816\n",
      "Epoch 94/100\n",
      "1394/1394 [==============================] - 2s 1ms/step - loss: 0.4614 - accuracy: 0.7881\n",
      "Epoch 95/100\n",
      "1394/1394 [==============================] - 2s 1ms/step - loss: 0.4676 - accuracy: 0.7805\n",
      "Epoch 96/100\n",
      "1394/1394 [==============================] - 2s 1ms/step - loss: 0.4762 - accuracy: 0.7847\n",
      "Epoch 97/100\n",
      "1394/1394 [==============================] - 2s 1ms/step - loss: 0.4725 - accuracy: 0.7848\n",
      "Epoch 98/100\n",
      "1394/1394 [==============================] - 2s 1ms/step - loss: 0.4784 - accuracy: 0.7788\n",
      "Epoch 99/100\n",
      "1394/1394 [==============================] - 2s 1ms/step - loss: 0.4674 - accuracy: 0.7836\n",
      "Epoch 100/100\n",
      "1394/1394 [==============================] - 2s 1ms/step - loss: 0.4733 - accuracy: 0.7829\n"
     ]
    },
    {
     "data": {
      "text/plain": [
       "<tensorflow.python.keras.callbacks.History at 0x7f7278b80b90>"
      ]
     },
     "execution_count": 22,
     "metadata": {},
     "output_type": "execute_result"
    }
   ],
   "source": [
    "model = keras.Sequential([\n",
    "    keras.layers.Dense(60, input_dim=x_train.shape[1], activation='relu'),\n",
    "    keras.layers.Dropout(0.5),\n",
    "    keras.layers.Dense(30, activation='relu'),\n",
    "    keras.layers.Dropout(0.5),\n",
    "    keras.layers.Dense(15, activation='relu'),\n",
    "    keras.layers.Dropout(0.5),\n",
    "    keras.layers.Dense(1, activation='sigmoid')\n",
    "])\n",
    "\n",
    "model.compile(loss='binary_crossentropy', optimizer='adam', metrics=['accuracy'])\n",
    "\n",
    "model.fit(x_train, y_train, epochs=100, batch_size=8)"
   ]
  },
  {
   "cell_type": "code",
   "execution_count": 23,
   "metadata": {
    "execution": {
     "iopub.execute_input": "2021-03-11T13:09:53.789141Z",
     "iopub.status.busy": "2021-03-11T13:09:53.788417Z",
     "iopub.status.idle": "2021-03-11T13:09:54.112748Z",
     "shell.execute_reply": "2021-03-11T13:09:54.112096Z"
    },
    "papermill": {
     "duration": 1.497537,
     "end_time": "2021-03-11T13:09:54.112899",
     "exception": false,
     "start_time": "2021-03-11T13:09:52.615362",
     "status": "completed"
    },
    "tags": []
   },
   "outputs": [
    {
     "name": "stdout",
     "output_type": "stream",
     "text": [
      "150/150 [==============================] - 0s 864us/step - loss: 0.4237 - accuracy: 0.7941\n"
     ]
    },
    {
     "data": {
      "text/plain": [
       "[0.42366161942481995, 0.7940561175346375]"
      ]
     },
     "execution_count": 23,
     "metadata": {},
     "output_type": "execute_result"
    }
   ],
   "source": [
    "model.evaluate(x_test,y_test)"
   ]
  },
  {
   "cell_type": "markdown",
   "metadata": {
    "papermill": {
     "duration": 1.12929,
     "end_time": "2021-03-11T13:09:56.406265",
     "exception": false,
     "start_time": "2021-03-11T13:09:55.276975",
     "status": "completed"
    },
    "tags": []
   },
   "source": [
    "## Predictions"
   ]
  },
  {
   "cell_type": "code",
   "execution_count": 24,
   "metadata": {
    "execution": {
     "iopub.execute_input": "2021-03-11T13:09:58.646731Z",
     "iopub.status.busy": "2021-03-11T13:09:58.646053Z",
     "iopub.status.idle": "2021-03-11T13:09:58.849930Z",
     "shell.execute_reply": "2021-03-11T13:09:58.850429Z"
    },
    "papermill": {
     "duration": 1.321226,
     "end_time": "2021-03-11T13:09:58.850617",
     "exception": false,
     "start_time": "2021-03-11T13:09:57.529391",
     "status": "completed"
    },
    "tags": []
   },
   "outputs": [],
   "source": [
    "yp=model.predict(x_test)"
   ]
  },
  {
   "cell_type": "code",
   "execution_count": 25,
   "metadata": {
    "execution": {
     "iopub.execute_input": "2021-03-11T13:10:01.139677Z",
     "iopub.status.busy": "2021-03-11T13:10:01.138966Z",
     "iopub.status.idle": "2021-03-11T13:10:01.143306Z",
     "shell.execute_reply": "2021-03-11T13:10:01.142690Z"
    },
    "papermill": {
     "duration": 1.174119,
     "end_time": "2021-03-11T13:10:01.143455",
     "exception": false,
     "start_time": "2021-03-11T13:09:59.969336",
     "status": "completed"
    },
    "tags": []
   },
   "outputs": [
    {
     "data": {
      "text/plain": [
       "array([[0.5572149 ],\n",
       "       [0.25473005],\n",
       "       [0.46378347],\n",
       "       [0.44505835],\n",
       "       [0.2265594 ]], dtype=float32)"
      ]
     },
     "execution_count": 25,
     "metadata": {},
     "output_type": "execute_result"
    }
   ],
   "source": [
    "yp[:5]"
   ]
  },
  {
   "cell_type": "code",
   "execution_count": 26,
   "metadata": {
    "execution": {
     "iopub.execute_input": "2021-03-11T13:10:03.388680Z",
     "iopub.status.busy": "2021-03-11T13:10:03.387950Z",
     "iopub.status.idle": "2021-03-11T13:10:03.391422Z",
     "shell.execute_reply": "2021-03-11T13:10:03.391960Z"
    },
    "papermill": {
     "duration": 1.13577,
     "end_time": "2021-03-11T13:10:03.392136",
     "exception": false,
     "start_time": "2021-03-11T13:10:02.256366",
     "status": "completed"
    },
    "tags": []
   },
   "outputs": [],
   "source": [
    "y_pred=[]\n",
    "for i in yp:\n",
    "    if i>0.5:\n",
    "        y_pred.append(1)\n",
    "    else:\n",
    "        y_pred.append(0)"
   ]
  },
  {
   "cell_type": "code",
   "execution_count": 27,
   "metadata": {
    "execution": {
     "iopub.execute_input": "2021-03-11T13:10:05.626609Z",
     "iopub.status.busy": "2021-03-11T13:10:05.625960Z",
     "iopub.status.idle": "2021-03-11T13:10:05.631598Z",
     "shell.execute_reply": "2021-03-11T13:10:05.632128Z"
    },
    "papermill": {
     "duration": 1.12624,
     "end_time": "2021-03-11T13:10:05.632317",
     "exception": false,
     "start_time": "2021-03-11T13:10:04.506077",
     "status": "completed"
    },
    "tags": []
   },
   "outputs": [
    {
     "data": {
      "text/plain": [
       "[1, 0, 0, 0, 0]"
      ]
     },
     "execution_count": 27,
     "metadata": {},
     "output_type": "execute_result"
    }
   ],
   "source": [
    "y_pred[:5]"
   ]
  },
  {
   "cell_type": "code",
   "execution_count": 28,
   "metadata": {
    "execution": {
     "iopub.execute_input": "2021-03-11T13:10:07.918933Z",
     "iopub.status.busy": "2021-03-11T13:10:07.918276Z",
     "iopub.status.idle": "2021-03-11T13:10:07.925246Z",
     "shell.execute_reply": "2021-03-11T13:10:07.924742Z"
    },
    "papermill": {
     "duration": 1.132242,
     "end_time": "2021-03-11T13:10:07.925407",
     "exception": false,
     "start_time": "2021-03-11T13:10:06.793165",
     "status": "completed"
    },
    "tags": []
   },
   "outputs": [
    {
     "data": {
      "text/plain": [
       "13122    1\n",
       "7572     0\n",
       "15270    1\n",
       "15179    1\n",
       "1337     0\n",
       "Name: Exited, dtype: int64"
      ]
     },
     "execution_count": 28,
     "metadata": {},
     "output_type": "execute_result"
    }
   ],
   "source": [
    "y_test[:5]"
   ]
  },
  {
   "cell_type": "markdown",
   "metadata": {
    "papermill": {
     "duration": 1.118827,
     "end_time": "2021-03-11T13:10:10.205922",
     "exception": false,
     "start_time": "2021-03-11T13:10:09.087095",
     "status": "completed"
    },
    "tags": []
   },
   "source": [
    "### Visualizing Predictions"
   ]
  },
  {
   "cell_type": "code",
   "execution_count": 29,
   "metadata": {
    "execution": {
     "iopub.execute_input": "2021-03-11T13:10:12.575884Z",
     "iopub.status.busy": "2021-03-11T13:10:12.575223Z",
     "iopub.status.idle": "2021-03-11T13:10:12.907608Z",
     "shell.execute_reply": "2021-03-11T13:10:12.906895Z"
    },
    "papermill": {
     "duration": 1.500794,
     "end_time": "2021-03-11T13:10:12.907757",
     "exception": false,
     "start_time": "2021-03-11T13:10:11.406963",
     "status": "completed"
    },
    "tags": []
   },
   "outputs": [
    {
     "data": {
      "text/plain": [
       "Text(33.0, 0.5, 'Truth')"
      ]
     },
     "execution_count": 29,
     "metadata": {},
     "output_type": "execute_result"
    },
    {
     "data": {
      "image/png": "[encoded data removed]",
      "text/plain": [
       "<Figure size 432x288 with 2 Axes>"
      ]
     },
     "metadata": {
      "needs_background": "light"
     },
     "output_type": "display_data"
    }
   ],
   "source": [
    "import seaborn as sns\n",
    "cm=tf.math.confusion_matrix(labels=y_test,predictions=y_pred)\n",
    "sns.heatmap(cm,annot=True,fmt='d')\n",
    "plt.xlabel('Predicted')\n",
    "plt.ylabel('Truth')"
   ]
  },
  {
   "cell_type": "code",
   "execution_count": 30,
   "metadata": {
    "execution": {
     "iopub.execute_input": "2021-03-11T13:10:15.215215Z",
     "iopub.status.busy": "2021-03-11T13:10:15.211327Z",
     "iopub.status.idle": "2021-03-11T13:10:15.231719Z",
     "shell.execute_reply": "2021-03-11T13:10:15.232260Z"
    },
    "papermill": {
     "duration": 1.174608,
     "end_time": "2021-03-11T13:10:15.232486",
     "exception": false,
     "start_time": "2021-03-11T13:10:14.057878",
     "status": "completed"
    },
    "tags": []
   },
   "outputs": [
    {
     "name": "stdout",
     "output_type": "stream",
     "text": [
      "              precision    recall  f1-score   support\n",
      "\n",
      "           0       0.76      0.86      0.81      2389\n",
      "           1       0.84      0.72      0.78      2389\n",
      "\n",
      "    accuracy                           0.79      4778\n",
      "   macro avg       0.80      0.79      0.79      4778\n",
      "weighted avg       0.80      0.79      0.79      4778\n",
      "\n"
     ]
    }
   ],
   "source": [
    "from sklearn.metrics import classification_report\n",
    "print(classification_report(y_test,y_pred))"
   ]
  },
  {
   "cell_type": "code",
   "execution_count": null,
   "metadata": {
    "papermill": {
     "duration": 1.14773,
     "end_time": "2021-03-11T13:10:17.578562",
     "exception": false,
     "start_time": "2021-03-11T13:10:16.430832",
     "status": "completed"
    },
    "tags": []
   },
   "outputs": [],
   "source": []
  }
 ],
 "metadata": {
  "kernelspec": {
   "display_name": "Python 3",
   "language": "python",
   "name": "python3"
  },
  "language_info": {
   "codemirror_mode": {
    "name": "ipython",
    "version": 3
   },
   "file_extension": ".py",
   "mimetype": "text/x-python",
   "name": "python",
   "nbconvert_exporter": "python",
   "pygments_lexer": "ipython3",
   "version": "3.7.9"
  },
  "papermill": {
   "default_parameters": {},
   "duration": 221.420661,
   "end_time": "2021-03-11T13:10:19.810408",
   "environment_variables": {},
   "exception": null,
   "input_path": "__notebook__.ipynb",
   "output_path": "__notebook__.ipynb",
   "parameters": {},
   "start_time": "2021-03-11T13:06:38.389747",
   "version": "2.2.2"
  }
 },
 "nbformat": 4,
 "nbformat_minor": 4
}
